{
  "cells": [
    {
      "cell_type": "markdown",
      "metadata": {
        "id": "le3WdOCST7Xm"
      },
      "source": [
        "## EEG signal Based Eye State Classification"
      ]
    },
    {
      "cell_type": "markdown",
      "source": [
        "### Convert ARFF to CSV"
      ],
      "metadata": {
        "id": "y7m4HmOGF5Wq"
      }
    },
    {
      "cell_type": "code",
      "source": [
        "import pandas as pd\n",
        "from scipy.io import arff\n",
        "data = arff.loadarff('EEG Eye State.arff')\n",
        "train= pd.DataFrame(data[0])\n",
        "train.head()"
      ],
      "metadata": {
        "colab": {
          "base_uri": "https://localhost:8080/",
          "height": 206
        },
        "id": "1QvftjJUF46r",
        "outputId": "c2581dde-7ea6-49f3-87c2-e74095792ad2"
      },
      "execution_count": 1,
      "outputs": [
        {
          "output_type": "execute_result",
          "data": {
            "text/plain": [
              "       AF3       F7       F3      FC5       T7       P7       O1       O2  \\\n",
              "0  4329.23  4009.23  4289.23  4148.21  4350.26  4586.15  4096.92  4641.03   \n",
              "1  4324.62  4004.62  4293.85  4148.72  4342.05  4586.67  4097.44  4638.97   \n",
              "2  4327.69  4006.67  4295.38  4156.41  4336.92  4583.59  4096.92  4630.26   \n",
              "3  4328.72  4011.79  4296.41  4155.90  4343.59  4582.56  4097.44  4630.77   \n",
              "4  4326.15  4011.79  4292.31  4151.28  4347.69  4586.67  4095.90  4627.69   \n",
              "\n",
              "        P8       T8      FC6       F4       F8      AF4 eyeDetection  \n",
              "0  4222.05  4238.46  4211.28  4280.51  4635.90  4393.85         b'0'  \n",
              "1  4210.77  4226.67  4207.69  4279.49  4632.82  4384.10         b'0'  \n",
              "2  4207.69  4222.05  4206.67  4282.05  4628.72  4389.23         b'0'  \n",
              "3  4217.44  4235.38  4210.77  4287.69  4632.31  4396.41         b'0'  \n",
              "4  4210.77  4244.10  4212.82  4288.21  4632.82  4398.46         b'0'  "
            ],
            "text/html": [
              "\n",
              "  <div id=\"df-4391c04a-be91-44c8-b6b6-f48968d57285\" class=\"colab-df-container\">\n",
              "    <div>\n",
              "<style scoped>\n",
              "    .dataframe tbody tr th:only-of-type {\n",
              "        vertical-align: middle;\n",
              "    }\n",
              "\n",
              "    .dataframe tbody tr th {\n",
              "        vertical-align: top;\n",
              "    }\n",
              "\n",
              "    .dataframe thead th {\n",
              "        text-align: right;\n",
              "    }\n",
              "</style>\n",
              "<table border=\"1\" class=\"dataframe\">\n",
              "  <thead>\n",
              "    <tr style=\"text-align: right;\">\n",
              "      <th></th>\n",
              "      <th>AF3</th>\n",
              "      <th>F7</th>\n",
              "      <th>F3</th>\n",
              "      <th>FC5</th>\n",
              "      <th>T7</th>\n",
              "      <th>P7</th>\n",
              "      <th>O1</th>\n",
              "      <th>O2</th>\n",
              "      <th>P8</th>\n",
              "      <th>T8</th>\n",
              "      <th>FC6</th>\n",
              "      <th>F4</th>\n",
              "      <th>F8</th>\n",
              "      <th>AF4</th>\n",
              "      <th>eyeDetection</th>\n",
              "    </tr>\n",
              "  </thead>\n",
              "  <tbody>\n",
              "    <tr>\n",
              "      <th>0</th>\n",
              "      <td>4329.23</td>\n",
              "      <td>4009.23</td>\n",
              "      <td>4289.23</td>\n",
              "      <td>4148.21</td>\n",
              "      <td>4350.26</td>\n",
              "      <td>4586.15</td>\n",
              "      <td>4096.92</td>\n",
              "      <td>4641.03</td>\n",
              "      <td>4222.05</td>\n",
              "      <td>4238.46</td>\n",
              "      <td>4211.28</td>\n",
              "      <td>4280.51</td>\n",
              "      <td>4635.90</td>\n",
              "      <td>4393.85</td>\n",
              "      <td>b'0'</td>\n",
              "    </tr>\n",
              "    <tr>\n",
              "      <th>1</th>\n",
              "      <td>4324.62</td>\n",
              "      <td>4004.62</td>\n",
              "      <td>4293.85</td>\n",
              "      <td>4148.72</td>\n",
              "      <td>4342.05</td>\n",
              "      <td>4586.67</td>\n",
              "      <td>4097.44</td>\n",
              "      <td>4638.97</td>\n",
              "      <td>4210.77</td>\n",
              "      <td>4226.67</td>\n",
              "      <td>4207.69</td>\n",
              "      <td>4279.49</td>\n",
              "      <td>4632.82</td>\n",
              "      <td>4384.10</td>\n",
              "      <td>b'0'</td>\n",
              "    </tr>\n",
              "    <tr>\n",
              "      <th>2</th>\n",
              "      <td>4327.69</td>\n",
              "      <td>4006.67</td>\n",
              "      <td>4295.38</td>\n",
              "      <td>4156.41</td>\n",
              "      <td>4336.92</td>\n",
              "      <td>4583.59</td>\n",
              "      <td>4096.92</td>\n",
              "      <td>4630.26</td>\n",
              "      <td>4207.69</td>\n",
              "      <td>4222.05</td>\n",
              "      <td>4206.67</td>\n",
              "      <td>4282.05</td>\n",
              "      <td>4628.72</td>\n",
              "      <td>4389.23</td>\n",
              "      <td>b'0'</td>\n",
              "    </tr>\n",
              "    <tr>\n",
              "      <th>3</th>\n",
              "      <td>4328.72</td>\n",
              "      <td>4011.79</td>\n",
              "      <td>4296.41</td>\n",
              "      <td>4155.90</td>\n",
              "      <td>4343.59</td>\n",
              "      <td>4582.56</td>\n",
              "      <td>4097.44</td>\n",
              "      <td>4630.77</td>\n",
              "      <td>4217.44</td>\n",
              "      <td>4235.38</td>\n",
              "      <td>4210.77</td>\n",
              "      <td>4287.69</td>\n",
              "      <td>4632.31</td>\n",
              "      <td>4396.41</td>\n",
              "      <td>b'0'</td>\n",
              "    </tr>\n",
              "    <tr>\n",
              "      <th>4</th>\n",
              "      <td>4326.15</td>\n",
              "      <td>4011.79</td>\n",
              "      <td>4292.31</td>\n",
              "      <td>4151.28</td>\n",
              "      <td>4347.69</td>\n",
              "      <td>4586.67</td>\n",
              "      <td>4095.90</td>\n",
              "      <td>4627.69</td>\n",
              "      <td>4210.77</td>\n",
              "      <td>4244.10</td>\n",
              "      <td>4212.82</td>\n",
              "      <td>4288.21</td>\n",
              "      <td>4632.82</td>\n",
              "      <td>4398.46</td>\n",
              "      <td>b'0'</td>\n",
              "    </tr>\n",
              "  </tbody>\n",
              "</table>\n",
              "</div>\n",
              "    <div class=\"colab-df-buttons\">\n",
              "\n",
              "  <div class=\"colab-df-container\">\n",
              "    <button class=\"colab-df-convert\" onclick=\"convertToInteractive('df-4391c04a-be91-44c8-b6b6-f48968d57285')\"\n",
              "            title=\"Convert this dataframe to an interactive table.\"\n",
              "            style=\"display:none;\">\n",
              "\n",
              "  <svg xmlns=\"http://www.w3.org/2000/svg\" height=\"24px\" viewBox=\"0 -960 960 960\">\n",
              "    <path d=\"M120-120v-720h720v720H120Zm60-500h600v-160H180v160Zm220 220h160v-160H400v160Zm0 220h160v-160H400v160ZM180-400h160v-160H180v160Zm440 0h160v-160H620v160ZM180-180h160v-160H180v160Zm440 0h160v-160H620v160Z\"/>\n",
              "  </svg>\n",
              "    </button>\n",
              "\n",
              "  <style>\n",
              "    .colab-df-container {\n",
              "      display:flex;\n",
              "      gap: 12px;\n",
              "    }\n",
              "\n",
              "    .colab-df-convert {\n",
              "      background-color: #E8F0FE;\n",
              "      border: none;\n",
              "      border-radius: 50%;\n",
              "      cursor: pointer;\n",
              "      display: none;\n",
              "      fill: #1967D2;\n",
              "      height: 32px;\n",
              "      padding: 0 0 0 0;\n",
              "      width: 32px;\n",
              "    }\n",
              "\n",
              "    .colab-df-convert:hover {\n",
              "      background-color: #E2EBFA;\n",
              "      box-shadow: 0px 1px 2px rgba(60, 64, 67, 0.3), 0px 1px 3px 1px rgba(60, 64, 67, 0.15);\n",
              "      fill: #174EA6;\n",
              "    }\n",
              "\n",
              "    .colab-df-buttons div {\n",
              "      margin-bottom: 4px;\n",
              "    }\n",
              "\n",
              "    [theme=dark] .colab-df-convert {\n",
              "      background-color: #3B4455;\n",
              "      fill: #D2E3FC;\n",
              "    }\n",
              "\n",
              "    [theme=dark] .colab-df-convert:hover {\n",
              "      background-color: #434B5C;\n",
              "      box-shadow: 0px 1px 3px 1px rgba(0, 0, 0, 0.15);\n",
              "      filter: drop-shadow(0px 1px 2px rgba(0, 0, 0, 0.3));\n",
              "      fill: #FFFFFF;\n",
              "    }\n",
              "  </style>\n",
              "\n",
              "    <script>\n",
              "      const buttonEl =\n",
              "        document.querySelector('#df-4391c04a-be91-44c8-b6b6-f48968d57285 button.colab-df-convert');\n",
              "      buttonEl.style.display =\n",
              "        google.colab.kernel.accessAllowed ? 'block' : 'none';\n",
              "\n",
              "      async function convertToInteractive(key) {\n",
              "        const element = document.querySelector('#df-4391c04a-be91-44c8-b6b6-f48968d57285');\n",
              "        const dataTable =\n",
              "          await google.colab.kernel.invokeFunction('convertToInteractive',\n",
              "                                                    [key], {});\n",
              "        if (!dataTable) return;\n",
              "\n",
              "        const docLinkHtml = 'Like what you see? Visit the ' +\n",
              "          '<a target=\"_blank\" href=https://colab.research.google.com/notebooks/data_table.ipynb>data table notebook</a>'\n",
              "          + ' to learn more about interactive tables.';\n",
              "        element.innerHTML = '';\n",
              "        dataTable['output_type'] = 'display_data';\n",
              "        await google.colab.output.renderOutput(dataTable, element);\n",
              "        const docLink = document.createElement('div');\n",
              "        docLink.innerHTML = docLinkHtml;\n",
              "        element.appendChild(docLink);\n",
              "      }\n",
              "    </script>\n",
              "  </div>\n",
              "\n",
              "\n",
              "<div id=\"df-6202cafc-5d4a-4cd5-a571-a8a48610f8ec\">\n",
              "  <button class=\"colab-df-quickchart\" onclick=\"quickchart('df-6202cafc-5d4a-4cd5-a571-a8a48610f8ec')\"\n",
              "            title=\"Suggest charts\"\n",
              "            style=\"display:none;\">\n",
              "\n",
              "<svg xmlns=\"http://www.w3.org/2000/svg\" height=\"24px\"viewBox=\"0 0 24 24\"\n",
              "     width=\"24px\">\n",
              "    <g>\n",
              "        <path d=\"M19 3H5c-1.1 0-2 .9-2 2v14c0 1.1.9 2 2 2h14c1.1 0 2-.9 2-2V5c0-1.1-.9-2-2-2zM9 17H7v-7h2v7zm4 0h-2V7h2v10zm4 0h-2v-4h2v4z\"/>\n",
              "    </g>\n",
              "</svg>\n",
              "  </button>\n",
              "\n",
              "<style>\n",
              "  .colab-df-quickchart {\n",
              "      --bg-color: #E8F0FE;\n",
              "      --fill-color: #1967D2;\n",
              "      --hover-bg-color: #E2EBFA;\n",
              "      --hover-fill-color: #174EA6;\n",
              "      --disabled-fill-color: #AAA;\n",
              "      --disabled-bg-color: #DDD;\n",
              "  }\n",
              "\n",
              "  [theme=dark] .colab-df-quickchart {\n",
              "      --bg-color: #3B4455;\n",
              "      --fill-color: #D2E3FC;\n",
              "      --hover-bg-color: #434B5C;\n",
              "      --hover-fill-color: #FFFFFF;\n",
              "      --disabled-bg-color: #3B4455;\n",
              "      --disabled-fill-color: #666;\n",
              "  }\n",
              "\n",
              "  .colab-df-quickchart {\n",
              "    background-color: var(--bg-color);\n",
              "    border: none;\n",
              "    border-radius: 50%;\n",
              "    cursor: pointer;\n",
              "    display: none;\n",
              "    fill: var(--fill-color);\n",
              "    height: 32px;\n",
              "    padding: 0;\n",
              "    width: 32px;\n",
              "  }\n",
              "\n",
              "  .colab-df-quickchart:hover {\n",
              "    background-color: var(--hover-bg-color);\n",
              "    box-shadow: 0 1px 2px rgba(60, 64, 67, 0.3), 0 1px 3px 1px rgba(60, 64, 67, 0.15);\n",
              "    fill: var(--button-hover-fill-color);\n",
              "  }\n",
              "\n",
              "  .colab-df-quickchart-complete:disabled,\n",
              "  .colab-df-quickchart-complete:disabled:hover {\n",
              "    background-color: var(--disabled-bg-color);\n",
              "    fill: var(--disabled-fill-color);\n",
              "    box-shadow: none;\n",
              "  }\n",
              "\n",
              "  .colab-df-spinner {\n",
              "    border: 2px solid var(--fill-color);\n",
              "    border-color: transparent;\n",
              "    border-bottom-color: var(--fill-color);\n",
              "    animation:\n",
              "      spin 1s steps(1) infinite;\n",
              "  }\n",
              "\n",
              "  @keyframes spin {\n",
              "    0% {\n",
              "      border-color: transparent;\n",
              "      border-bottom-color: var(--fill-color);\n",
              "      border-left-color: var(--fill-color);\n",
              "    }\n",
              "    20% {\n",
              "      border-color: transparent;\n",
              "      border-left-color: var(--fill-color);\n",
              "      border-top-color: var(--fill-color);\n",
              "    }\n",
              "    30% {\n",
              "      border-color: transparent;\n",
              "      border-left-color: var(--fill-color);\n",
              "      border-top-color: var(--fill-color);\n",
              "      border-right-color: var(--fill-color);\n",
              "    }\n",
              "    40% {\n",
              "      border-color: transparent;\n",
              "      border-right-color: var(--fill-color);\n",
              "      border-top-color: var(--fill-color);\n",
              "    }\n",
              "    60% {\n",
              "      border-color: transparent;\n",
              "      border-right-color: var(--fill-color);\n",
              "    }\n",
              "    80% {\n",
              "      border-color: transparent;\n",
              "      border-right-color: var(--fill-color);\n",
              "      border-bottom-color: var(--fill-color);\n",
              "    }\n",
              "    90% {\n",
              "      border-color: transparent;\n",
              "      border-bottom-color: var(--fill-color);\n",
              "    }\n",
              "  }\n",
              "</style>\n",
              "\n",
              "  <script>\n",
              "    async function quickchart(key) {\n",
              "      const quickchartButtonEl =\n",
              "        document.querySelector('#' + key + ' button');\n",
              "      quickchartButtonEl.disabled = true;  // To prevent multiple clicks.\n",
              "      quickchartButtonEl.classList.add('colab-df-spinner');\n",
              "      try {\n",
              "        const charts = await google.colab.kernel.invokeFunction(\n",
              "            'suggestCharts', [key], {});\n",
              "      } catch (error) {\n",
              "        console.error('Error during call to suggestCharts:', error);\n",
              "      }\n",
              "      quickchartButtonEl.classList.remove('colab-df-spinner');\n",
              "      quickchartButtonEl.classList.add('colab-df-quickchart-complete');\n",
              "    }\n",
              "    (() => {\n",
              "      let quickchartButtonEl =\n",
              "        document.querySelector('#df-6202cafc-5d4a-4cd5-a571-a8a48610f8ec button');\n",
              "      quickchartButtonEl.style.display =\n",
              "        google.colab.kernel.accessAllowed ? 'block' : 'none';\n",
              "    })();\n",
              "  </script>\n",
              "</div>\n",
              "    </div>\n",
              "  </div>\n"
            ]
          },
          "metadata": {},
          "execution_count": 1
        }
      ]
    },
    {
      "cell_type": "code",
      "source": [
        "catCols = [col for col in train.columns if train[col].dtype==\"O\"]\n",
        "catCols[:5]"
      ],
      "metadata": {
        "colab": {
          "base_uri": "https://localhost:8080/"
        },
        "id": "Q4h0GyuBIgci",
        "outputId": "11e81d2f-06de-473d-fbfa-5a9cafcbfe18"
      },
      "execution_count": 2,
      "outputs": [
        {
          "output_type": "execute_result",
          "data": {
            "text/plain": [
              "['eyeDetection']"
            ]
          },
          "metadata": {},
          "execution_count": 2
        }
      ]
    },
    {
      "cell_type": "code",
      "source": [
        "train[catCols]=train[catCols].apply(lambda x: x.str.decode('utf8'))\n",
        "train.head()"
      ],
      "metadata": {
        "colab": {
          "base_uri": "https://localhost:8080/",
          "height": 206
        },
        "id": "GQ20Hs1DGVu0",
        "outputId": "6f2e2b63-03a9-4cd1-be7d-3f519854d8e6"
      },
      "execution_count": 3,
      "outputs": [
        {
          "output_type": "execute_result",
          "data": {
            "text/plain": [
              "       AF3       F7       F3      FC5       T7       P7       O1       O2  \\\n",
              "0  4329.23  4009.23  4289.23  4148.21  4350.26  4586.15  4096.92  4641.03   \n",
              "1  4324.62  4004.62  4293.85  4148.72  4342.05  4586.67  4097.44  4638.97   \n",
              "2  4327.69  4006.67  4295.38  4156.41  4336.92  4583.59  4096.92  4630.26   \n",
              "3  4328.72  4011.79  4296.41  4155.90  4343.59  4582.56  4097.44  4630.77   \n",
              "4  4326.15  4011.79  4292.31  4151.28  4347.69  4586.67  4095.90  4627.69   \n",
              "\n",
              "        P8       T8      FC6       F4       F8      AF4 eyeDetection  \n",
              "0  4222.05  4238.46  4211.28  4280.51  4635.90  4393.85            0  \n",
              "1  4210.77  4226.67  4207.69  4279.49  4632.82  4384.10            0  \n",
              "2  4207.69  4222.05  4206.67  4282.05  4628.72  4389.23            0  \n",
              "3  4217.44  4235.38  4210.77  4287.69  4632.31  4396.41            0  \n",
              "4  4210.77  4244.10  4212.82  4288.21  4632.82  4398.46            0  "
            ],
            "text/html": [
              "\n",
              "  <div id=\"df-91d613ef-6e29-490e-b10e-6cc48a2c56b4\" class=\"colab-df-container\">\n",
              "    <div>\n",
              "<style scoped>\n",
              "    .dataframe tbody tr th:only-of-type {\n",
              "        vertical-align: middle;\n",
              "    }\n",
              "\n",
              "    .dataframe tbody tr th {\n",
              "        vertical-align: top;\n",
              "    }\n",
              "\n",
              "    .dataframe thead th {\n",
              "        text-align: right;\n",
              "    }\n",
              "</style>\n",
              "<table border=\"1\" class=\"dataframe\">\n",
              "  <thead>\n",
              "    <tr style=\"text-align: right;\">\n",
              "      <th></th>\n",
              "      <th>AF3</th>\n",
              "      <th>F7</th>\n",
              "      <th>F3</th>\n",
              "      <th>FC5</th>\n",
              "      <th>T7</th>\n",
              "      <th>P7</th>\n",
              "      <th>O1</th>\n",
              "      <th>O2</th>\n",
              "      <th>P8</th>\n",
              "      <th>T8</th>\n",
              "      <th>FC6</th>\n",
              "      <th>F4</th>\n",
              "      <th>F8</th>\n",
              "      <th>AF4</th>\n",
              "      <th>eyeDetection</th>\n",
              "    </tr>\n",
              "  </thead>\n",
              "  <tbody>\n",
              "    <tr>\n",
              "      <th>0</th>\n",
              "      <td>4329.23</td>\n",
              "      <td>4009.23</td>\n",
              "      <td>4289.23</td>\n",
              "      <td>4148.21</td>\n",
              "      <td>4350.26</td>\n",
              "      <td>4586.15</td>\n",
              "      <td>4096.92</td>\n",
              "      <td>4641.03</td>\n",
              "      <td>4222.05</td>\n",
              "      <td>4238.46</td>\n",
              "      <td>4211.28</td>\n",
              "      <td>4280.51</td>\n",
              "      <td>4635.90</td>\n",
              "      <td>4393.85</td>\n",
              "      <td>0</td>\n",
              "    </tr>\n",
              "    <tr>\n",
              "      <th>1</th>\n",
              "      <td>4324.62</td>\n",
              "      <td>4004.62</td>\n",
              "      <td>4293.85</td>\n",
              "      <td>4148.72</td>\n",
              "      <td>4342.05</td>\n",
              "      <td>4586.67</td>\n",
              "      <td>4097.44</td>\n",
              "      <td>4638.97</td>\n",
              "      <td>4210.77</td>\n",
              "      <td>4226.67</td>\n",
              "      <td>4207.69</td>\n",
              "      <td>4279.49</td>\n",
              "      <td>4632.82</td>\n",
              "      <td>4384.10</td>\n",
              "      <td>0</td>\n",
              "    </tr>\n",
              "    <tr>\n",
              "      <th>2</th>\n",
              "      <td>4327.69</td>\n",
              "      <td>4006.67</td>\n",
              "      <td>4295.38</td>\n",
              "      <td>4156.41</td>\n",
              "      <td>4336.92</td>\n",
              "      <td>4583.59</td>\n",
              "      <td>4096.92</td>\n",
              "      <td>4630.26</td>\n",
              "      <td>4207.69</td>\n",
              "      <td>4222.05</td>\n",
              "      <td>4206.67</td>\n",
              "      <td>4282.05</td>\n",
              "      <td>4628.72</td>\n",
              "      <td>4389.23</td>\n",
              "      <td>0</td>\n",
              "    </tr>\n",
              "    <tr>\n",
              "      <th>3</th>\n",
              "      <td>4328.72</td>\n",
              "      <td>4011.79</td>\n",
              "      <td>4296.41</td>\n",
              "      <td>4155.90</td>\n",
              "      <td>4343.59</td>\n",
              "      <td>4582.56</td>\n",
              "      <td>4097.44</td>\n",
              "      <td>4630.77</td>\n",
              "      <td>4217.44</td>\n",
              "      <td>4235.38</td>\n",
              "      <td>4210.77</td>\n",
              "      <td>4287.69</td>\n",
              "      <td>4632.31</td>\n",
              "      <td>4396.41</td>\n",
              "      <td>0</td>\n",
              "    </tr>\n",
              "    <tr>\n",
              "      <th>4</th>\n",
              "      <td>4326.15</td>\n",
              "      <td>4011.79</td>\n",
              "      <td>4292.31</td>\n",
              "      <td>4151.28</td>\n",
              "      <td>4347.69</td>\n",
              "      <td>4586.67</td>\n",
              "      <td>4095.90</td>\n",
              "      <td>4627.69</td>\n",
              "      <td>4210.77</td>\n",
              "      <td>4244.10</td>\n",
              "      <td>4212.82</td>\n",
              "      <td>4288.21</td>\n",
              "      <td>4632.82</td>\n",
              "      <td>4398.46</td>\n",
              "      <td>0</td>\n",
              "    </tr>\n",
              "  </tbody>\n",
              "</table>\n",
              "</div>\n",
              "    <div class=\"colab-df-buttons\">\n",
              "\n",
              "  <div class=\"colab-df-container\">\n",
              "    <button class=\"colab-df-convert\" onclick=\"convertToInteractive('df-91d613ef-6e29-490e-b10e-6cc48a2c56b4')\"\n",
              "            title=\"Convert this dataframe to an interactive table.\"\n",
              "            style=\"display:none;\">\n",
              "\n",
              "  <svg xmlns=\"http://www.w3.org/2000/svg\" height=\"24px\" viewBox=\"0 -960 960 960\">\n",
              "    <path d=\"M120-120v-720h720v720H120Zm60-500h600v-160H180v160Zm220 220h160v-160H400v160Zm0 220h160v-160H400v160ZM180-400h160v-160H180v160Zm440 0h160v-160H620v160ZM180-180h160v-160H180v160Zm440 0h160v-160H620v160Z\"/>\n",
              "  </svg>\n",
              "    </button>\n",
              "\n",
              "  <style>\n",
              "    .colab-df-container {\n",
              "      display:flex;\n",
              "      gap: 12px;\n",
              "    }\n",
              "\n",
              "    .colab-df-convert {\n",
              "      background-color: #E8F0FE;\n",
              "      border: none;\n",
              "      border-radius: 50%;\n",
              "      cursor: pointer;\n",
              "      display: none;\n",
              "      fill: #1967D2;\n",
              "      height: 32px;\n",
              "      padding: 0 0 0 0;\n",
              "      width: 32px;\n",
              "    }\n",
              "\n",
              "    .colab-df-convert:hover {\n",
              "      background-color: #E2EBFA;\n",
              "      box-shadow: 0px 1px 2px rgba(60, 64, 67, 0.3), 0px 1px 3px 1px rgba(60, 64, 67, 0.15);\n",
              "      fill: #174EA6;\n",
              "    }\n",
              "\n",
              "    .colab-df-buttons div {\n",
              "      margin-bottom: 4px;\n",
              "    }\n",
              "\n",
              "    [theme=dark] .colab-df-convert {\n",
              "      background-color: #3B4455;\n",
              "      fill: #D2E3FC;\n",
              "    }\n",
              "\n",
              "    [theme=dark] .colab-df-convert:hover {\n",
              "      background-color: #434B5C;\n",
              "      box-shadow: 0px 1px 3px 1px rgba(0, 0, 0, 0.15);\n",
              "      filter: drop-shadow(0px 1px 2px rgba(0, 0, 0, 0.3));\n",
              "      fill: #FFFFFF;\n",
              "    }\n",
              "  </style>\n",
              "\n",
              "    <script>\n",
              "      const buttonEl =\n",
              "        document.querySelector('#df-91d613ef-6e29-490e-b10e-6cc48a2c56b4 button.colab-df-convert');\n",
              "      buttonEl.style.display =\n",
              "        google.colab.kernel.accessAllowed ? 'block' : 'none';\n",
              "\n",
              "      async function convertToInteractive(key) {\n",
              "        const element = document.querySelector('#df-91d613ef-6e29-490e-b10e-6cc48a2c56b4');\n",
              "        const dataTable =\n",
              "          await google.colab.kernel.invokeFunction('convertToInteractive',\n",
              "                                                    [key], {});\n",
              "        if (!dataTable) return;\n",
              "\n",
              "        const docLinkHtml = 'Like what you see? Visit the ' +\n",
              "          '<a target=\"_blank\" href=https://colab.research.google.com/notebooks/data_table.ipynb>data table notebook</a>'\n",
              "          + ' to learn more about interactive tables.';\n",
              "        element.innerHTML = '';\n",
              "        dataTable['output_type'] = 'display_data';\n",
              "        await google.colab.output.renderOutput(dataTable, element);\n",
              "        const docLink = document.createElement('div');\n",
              "        docLink.innerHTML = docLinkHtml;\n",
              "        element.appendChild(docLink);\n",
              "      }\n",
              "    </script>\n",
              "  </div>\n",
              "\n",
              "\n",
              "<div id=\"df-f24a9b4a-629f-469c-a613-7bddb845b8c4\">\n",
              "  <button class=\"colab-df-quickchart\" onclick=\"quickchart('df-f24a9b4a-629f-469c-a613-7bddb845b8c4')\"\n",
              "            title=\"Suggest charts\"\n",
              "            style=\"display:none;\">\n",
              "\n",
              "<svg xmlns=\"http://www.w3.org/2000/svg\" height=\"24px\"viewBox=\"0 0 24 24\"\n",
              "     width=\"24px\">\n",
              "    <g>\n",
              "        <path d=\"M19 3H5c-1.1 0-2 .9-2 2v14c0 1.1.9 2 2 2h14c1.1 0 2-.9 2-2V5c0-1.1-.9-2-2-2zM9 17H7v-7h2v7zm4 0h-2V7h2v10zm4 0h-2v-4h2v4z\"/>\n",
              "    </g>\n",
              "</svg>\n",
              "  </button>\n",
              "\n",
              "<style>\n",
              "  .colab-df-quickchart {\n",
              "      --bg-color: #E8F0FE;\n",
              "      --fill-color: #1967D2;\n",
              "      --hover-bg-color: #E2EBFA;\n",
              "      --hover-fill-color: #174EA6;\n",
              "      --disabled-fill-color: #AAA;\n",
              "      --disabled-bg-color: #DDD;\n",
              "  }\n",
              "\n",
              "  [theme=dark] .colab-df-quickchart {\n",
              "      --bg-color: #3B4455;\n",
              "      --fill-color: #D2E3FC;\n",
              "      --hover-bg-color: #434B5C;\n",
              "      --hover-fill-color: #FFFFFF;\n",
              "      --disabled-bg-color: #3B4455;\n",
              "      --disabled-fill-color: #666;\n",
              "  }\n",
              "\n",
              "  .colab-df-quickchart {\n",
              "    background-color: var(--bg-color);\n",
              "    border: none;\n",
              "    border-radius: 50%;\n",
              "    cursor: pointer;\n",
              "    display: none;\n",
              "    fill: var(--fill-color);\n",
              "    height: 32px;\n",
              "    padding: 0;\n",
              "    width: 32px;\n",
              "  }\n",
              "\n",
              "  .colab-df-quickchart:hover {\n",
              "    background-color: var(--hover-bg-color);\n",
              "    box-shadow: 0 1px 2px rgba(60, 64, 67, 0.3), 0 1px 3px 1px rgba(60, 64, 67, 0.15);\n",
              "    fill: var(--button-hover-fill-color);\n",
              "  }\n",
              "\n",
              "  .colab-df-quickchart-complete:disabled,\n",
              "  .colab-df-quickchart-complete:disabled:hover {\n",
              "    background-color: var(--disabled-bg-color);\n",
              "    fill: var(--disabled-fill-color);\n",
              "    box-shadow: none;\n",
              "  }\n",
              "\n",
              "  .colab-df-spinner {\n",
              "    border: 2px solid var(--fill-color);\n",
              "    border-color: transparent;\n",
              "    border-bottom-color: var(--fill-color);\n",
              "    animation:\n",
              "      spin 1s steps(1) infinite;\n",
              "  }\n",
              "\n",
              "  @keyframes spin {\n",
              "    0% {\n",
              "      border-color: transparent;\n",
              "      border-bottom-color: var(--fill-color);\n",
              "      border-left-color: var(--fill-color);\n",
              "    }\n",
              "    20% {\n",
              "      border-color: transparent;\n",
              "      border-left-color: var(--fill-color);\n",
              "      border-top-color: var(--fill-color);\n",
              "    }\n",
              "    30% {\n",
              "      border-color: transparent;\n",
              "      border-left-color: var(--fill-color);\n",
              "      border-top-color: var(--fill-color);\n",
              "      border-right-color: var(--fill-color);\n",
              "    }\n",
              "    40% {\n",
              "      border-color: transparent;\n",
              "      border-right-color: var(--fill-color);\n",
              "      border-top-color: var(--fill-color);\n",
              "    }\n",
              "    60% {\n",
              "      border-color: transparent;\n",
              "      border-right-color: var(--fill-color);\n",
              "    }\n",
              "    80% {\n",
              "      border-color: transparent;\n",
              "      border-right-color: var(--fill-color);\n",
              "      border-bottom-color: var(--fill-color);\n",
              "    }\n",
              "    90% {\n",
              "      border-color: transparent;\n",
              "      border-bottom-color: var(--fill-color);\n",
              "    }\n",
              "  }\n",
              "</style>\n",
              "\n",
              "  <script>\n",
              "    async function quickchart(key) {\n",
              "      const quickchartButtonEl =\n",
              "        document.querySelector('#' + key + ' button');\n",
              "      quickchartButtonEl.disabled = true;  // To prevent multiple clicks.\n",
              "      quickchartButtonEl.classList.add('colab-df-spinner');\n",
              "      try {\n",
              "        const charts = await google.colab.kernel.invokeFunction(\n",
              "            'suggestCharts', [key], {});\n",
              "      } catch (error) {\n",
              "        console.error('Error during call to suggestCharts:', error);\n",
              "      }\n",
              "      quickchartButtonEl.classList.remove('colab-df-spinner');\n",
              "      quickchartButtonEl.classList.add('colab-df-quickchart-complete');\n",
              "    }\n",
              "    (() => {\n",
              "      let quickchartButtonEl =\n",
              "        document.querySelector('#df-f24a9b4a-629f-469c-a613-7bddb845b8c4 button');\n",
              "      quickchartButtonEl.style.display =\n",
              "        google.colab.kernel.accessAllowed ? 'block' : 'none';\n",
              "    })();\n",
              "  </script>\n",
              "</div>\n",
              "    </div>\n",
              "  </div>\n"
            ]
          },
          "metadata": {},
          "execution_count": 3
        }
      ]
    },
    {
      "cell_type": "code",
      "source": [
        "df = train\n",
        "df"
      ],
      "metadata": {
        "colab": {
          "base_uri": "https://localhost:8080/",
          "height": 423
        },
        "id": "aFn5hPDHIsYz",
        "outputId": "74afa71a-1d27-4dd1-e644-6d9325e69257"
      },
      "execution_count": 4,
      "outputs": [
        {
          "output_type": "execute_result",
          "data": {
            "text/plain": [
              "           AF3       F7       F3      FC5       T7       P7       O1       O2  \\\n",
              "0      4329.23  4009.23  4289.23  4148.21  4350.26  4586.15  4096.92  4641.03   \n",
              "1      4324.62  4004.62  4293.85  4148.72  4342.05  4586.67  4097.44  4638.97   \n",
              "2      4327.69  4006.67  4295.38  4156.41  4336.92  4583.59  4096.92  4630.26   \n",
              "3      4328.72  4011.79  4296.41  4155.90  4343.59  4582.56  4097.44  4630.77   \n",
              "4      4326.15  4011.79  4292.31  4151.28  4347.69  4586.67  4095.90  4627.69   \n",
              "...        ...      ...      ...      ...      ...      ...      ...      ...   \n",
              "14975  4281.03  3990.26  4245.64  4116.92  4333.85  4614.36  4074.87  4625.64   \n",
              "14976  4276.92  3991.79  4245.13  4110.77  4332.82  4615.38  4073.33  4621.54   \n",
              "14977  4277.44  3990.77  4246.67  4113.85  4333.33  4615.38  4072.82  4623.59   \n",
              "14978  4284.62  3991.79  4251.28  4122.05  4334.36  4616.41  4080.51  4628.72   \n",
              "14979  4287.69  3997.44  4260.00  4121.03  4333.33  4616.41  4088.72  4638.46   \n",
              "\n",
              "            P8       T8      FC6       F4       F8      AF4 eyeDetection  \n",
              "0      4222.05  4238.46  4211.28  4280.51  4635.90  4393.85            0  \n",
              "1      4210.77  4226.67  4207.69  4279.49  4632.82  4384.10            0  \n",
              "2      4207.69  4222.05  4206.67  4282.05  4628.72  4389.23            0  \n",
              "3      4217.44  4235.38  4210.77  4287.69  4632.31  4396.41            0  \n",
              "4      4210.77  4244.10  4212.82  4288.21  4632.82  4398.46            0  \n",
              "...        ...      ...      ...      ...      ...      ...          ...  \n",
              "14975  4203.08  4221.54  4171.28  4269.23  4593.33  4340.51            1  \n",
              "14976  4194.36  4217.44  4162.56  4259.49  4590.26  4333.33            1  \n",
              "14977  4193.33  4212.82  4160.51  4257.95  4591.79  4339.49            1  \n",
              "14978  4200.00  4220.00  4165.64  4267.18  4596.41  4350.77            1  \n",
              "14979  4212.31  4226.67  4167.69  4274.36  4597.95  4350.77            1  \n",
              "\n",
              "[14980 rows x 15 columns]"
            ],
            "text/html": [
              "\n",
              "  <div id=\"df-6d10eb44-9f15-4940-9e56-b636f850f2b4\" class=\"colab-df-container\">\n",
              "    <div>\n",
              "<style scoped>\n",
              "    .dataframe tbody tr th:only-of-type {\n",
              "        vertical-align: middle;\n",
              "    }\n",
              "\n",
              "    .dataframe tbody tr th {\n",
              "        vertical-align: top;\n",
              "    }\n",
              "\n",
              "    .dataframe thead th {\n",
              "        text-align: right;\n",
              "    }\n",
              "</style>\n",
              "<table border=\"1\" class=\"dataframe\">\n",
              "  <thead>\n",
              "    <tr style=\"text-align: right;\">\n",
              "      <th></th>\n",
              "      <th>AF3</th>\n",
              "      <th>F7</th>\n",
              "      <th>F3</th>\n",
              "      <th>FC5</th>\n",
              "      <th>T7</th>\n",
              "      <th>P7</th>\n",
              "      <th>O1</th>\n",
              "      <th>O2</th>\n",
              "      <th>P8</th>\n",
              "      <th>T8</th>\n",
              "      <th>FC6</th>\n",
              "      <th>F4</th>\n",
              "      <th>F8</th>\n",
              "      <th>AF4</th>\n",
              "      <th>eyeDetection</th>\n",
              "    </tr>\n",
              "  </thead>\n",
              "  <tbody>\n",
              "    <tr>\n",
              "      <th>0</th>\n",
              "      <td>4329.23</td>\n",
              "      <td>4009.23</td>\n",
              "      <td>4289.23</td>\n",
              "      <td>4148.21</td>\n",
              "      <td>4350.26</td>\n",
              "      <td>4586.15</td>\n",
              "      <td>4096.92</td>\n",
              "      <td>4641.03</td>\n",
              "      <td>4222.05</td>\n",
              "      <td>4238.46</td>\n",
              "      <td>4211.28</td>\n",
              "      <td>4280.51</td>\n",
              "      <td>4635.90</td>\n",
              "      <td>4393.85</td>\n",
              "      <td>0</td>\n",
              "    </tr>\n",
              "    <tr>\n",
              "      <th>1</th>\n",
              "      <td>4324.62</td>\n",
              "      <td>4004.62</td>\n",
              "      <td>4293.85</td>\n",
              "      <td>4148.72</td>\n",
              "      <td>4342.05</td>\n",
              "      <td>4586.67</td>\n",
              "      <td>4097.44</td>\n",
              "      <td>4638.97</td>\n",
              "      <td>4210.77</td>\n",
              "      <td>4226.67</td>\n",
              "      <td>4207.69</td>\n",
              "      <td>4279.49</td>\n",
              "      <td>4632.82</td>\n",
              "      <td>4384.10</td>\n",
              "      <td>0</td>\n",
              "    </tr>\n",
              "    <tr>\n",
              "      <th>2</th>\n",
              "      <td>4327.69</td>\n",
              "      <td>4006.67</td>\n",
              "      <td>4295.38</td>\n",
              "      <td>4156.41</td>\n",
              "      <td>4336.92</td>\n",
              "      <td>4583.59</td>\n",
              "      <td>4096.92</td>\n",
              "      <td>4630.26</td>\n",
              "      <td>4207.69</td>\n",
              "      <td>4222.05</td>\n",
              "      <td>4206.67</td>\n",
              "      <td>4282.05</td>\n",
              "      <td>4628.72</td>\n",
              "      <td>4389.23</td>\n",
              "      <td>0</td>\n",
              "    </tr>\n",
              "    <tr>\n",
              "      <th>3</th>\n",
              "      <td>4328.72</td>\n",
              "      <td>4011.79</td>\n",
              "      <td>4296.41</td>\n",
              "      <td>4155.90</td>\n",
              "      <td>4343.59</td>\n",
              "      <td>4582.56</td>\n",
              "      <td>4097.44</td>\n",
              "      <td>4630.77</td>\n",
              "      <td>4217.44</td>\n",
              "      <td>4235.38</td>\n",
              "      <td>4210.77</td>\n",
              "      <td>4287.69</td>\n",
              "      <td>4632.31</td>\n",
              "      <td>4396.41</td>\n",
              "      <td>0</td>\n",
              "    </tr>\n",
              "    <tr>\n",
              "      <th>4</th>\n",
              "      <td>4326.15</td>\n",
              "      <td>4011.79</td>\n",
              "      <td>4292.31</td>\n",
              "      <td>4151.28</td>\n",
              "      <td>4347.69</td>\n",
              "      <td>4586.67</td>\n",
              "      <td>4095.90</td>\n",
              "      <td>4627.69</td>\n",
              "      <td>4210.77</td>\n",
              "      <td>4244.10</td>\n",
              "      <td>4212.82</td>\n",
              "      <td>4288.21</td>\n",
              "      <td>4632.82</td>\n",
              "      <td>4398.46</td>\n",
              "      <td>0</td>\n",
              "    </tr>\n",
              "    <tr>\n",
              "      <th>...</th>\n",
              "      <td>...</td>\n",
              "      <td>...</td>\n",
              "      <td>...</td>\n",
              "      <td>...</td>\n",
              "      <td>...</td>\n",
              "      <td>...</td>\n",
              "      <td>...</td>\n",
              "      <td>...</td>\n",
              "      <td>...</td>\n",
              "      <td>...</td>\n",
              "      <td>...</td>\n",
              "      <td>...</td>\n",
              "      <td>...</td>\n",
              "      <td>...</td>\n",
              "      <td>...</td>\n",
              "    </tr>\n",
              "    <tr>\n",
              "      <th>14975</th>\n",
              "      <td>4281.03</td>\n",
              "      <td>3990.26</td>\n",
              "      <td>4245.64</td>\n",
              "      <td>4116.92</td>\n",
              "      <td>4333.85</td>\n",
              "      <td>4614.36</td>\n",
              "      <td>4074.87</td>\n",
              "      <td>4625.64</td>\n",
              "      <td>4203.08</td>\n",
              "      <td>4221.54</td>\n",
              "      <td>4171.28</td>\n",
              "      <td>4269.23</td>\n",
              "      <td>4593.33</td>\n",
              "      <td>4340.51</td>\n",
              "      <td>1</td>\n",
              "    </tr>\n",
              "    <tr>\n",
              "      <th>14976</th>\n",
              "      <td>4276.92</td>\n",
              "      <td>3991.79</td>\n",
              "      <td>4245.13</td>\n",
              "      <td>4110.77</td>\n",
              "      <td>4332.82</td>\n",
              "      <td>4615.38</td>\n",
              "      <td>4073.33</td>\n",
              "      <td>4621.54</td>\n",
              "      <td>4194.36</td>\n",
              "      <td>4217.44</td>\n",
              "      <td>4162.56</td>\n",
              "      <td>4259.49</td>\n",
              "      <td>4590.26</td>\n",
              "      <td>4333.33</td>\n",
              "      <td>1</td>\n",
              "    </tr>\n",
              "    <tr>\n",
              "      <th>14977</th>\n",
              "      <td>4277.44</td>\n",
              "      <td>3990.77</td>\n",
              "      <td>4246.67</td>\n",
              "      <td>4113.85</td>\n",
              "      <td>4333.33</td>\n",
              "      <td>4615.38</td>\n",
              "      <td>4072.82</td>\n",
              "      <td>4623.59</td>\n",
              "      <td>4193.33</td>\n",
              "      <td>4212.82</td>\n",
              "      <td>4160.51</td>\n",
              "      <td>4257.95</td>\n",
              "      <td>4591.79</td>\n",
              "      <td>4339.49</td>\n",
              "      <td>1</td>\n",
              "    </tr>\n",
              "    <tr>\n",
              "      <th>14978</th>\n",
              "      <td>4284.62</td>\n",
              "      <td>3991.79</td>\n",
              "      <td>4251.28</td>\n",
              "      <td>4122.05</td>\n",
              "      <td>4334.36</td>\n",
              "      <td>4616.41</td>\n",
              "      <td>4080.51</td>\n",
              "      <td>4628.72</td>\n",
              "      <td>4200.00</td>\n",
              "      <td>4220.00</td>\n",
              "      <td>4165.64</td>\n",
              "      <td>4267.18</td>\n",
              "      <td>4596.41</td>\n",
              "      <td>4350.77</td>\n",
              "      <td>1</td>\n",
              "    </tr>\n",
              "    <tr>\n",
              "      <th>14979</th>\n",
              "      <td>4287.69</td>\n",
              "      <td>3997.44</td>\n",
              "      <td>4260.00</td>\n",
              "      <td>4121.03</td>\n",
              "      <td>4333.33</td>\n",
              "      <td>4616.41</td>\n",
              "      <td>4088.72</td>\n",
              "      <td>4638.46</td>\n",
              "      <td>4212.31</td>\n",
              "      <td>4226.67</td>\n",
              "      <td>4167.69</td>\n",
              "      <td>4274.36</td>\n",
              "      <td>4597.95</td>\n",
              "      <td>4350.77</td>\n",
              "      <td>1</td>\n",
              "    </tr>\n",
              "  </tbody>\n",
              "</table>\n",
              "<p>14980 rows × 15 columns</p>\n",
              "</div>\n",
              "    <div class=\"colab-df-buttons\">\n",
              "\n",
              "  <div class=\"colab-df-container\">\n",
              "    <button class=\"colab-df-convert\" onclick=\"convertToInteractive('df-6d10eb44-9f15-4940-9e56-b636f850f2b4')\"\n",
              "            title=\"Convert this dataframe to an interactive table.\"\n",
              "            style=\"display:none;\">\n",
              "\n",
              "  <svg xmlns=\"http://www.w3.org/2000/svg\" height=\"24px\" viewBox=\"0 -960 960 960\">\n",
              "    <path d=\"M120-120v-720h720v720H120Zm60-500h600v-160H180v160Zm220 220h160v-160H400v160Zm0 220h160v-160H400v160ZM180-400h160v-160H180v160Zm440 0h160v-160H620v160ZM180-180h160v-160H180v160Zm440 0h160v-160H620v160Z\"/>\n",
              "  </svg>\n",
              "    </button>\n",
              "\n",
              "  <style>\n",
              "    .colab-df-container {\n",
              "      display:flex;\n",
              "      gap: 12px;\n",
              "    }\n",
              "\n",
              "    .colab-df-convert {\n",
              "      background-color: #E8F0FE;\n",
              "      border: none;\n",
              "      border-radius: 50%;\n",
              "      cursor: pointer;\n",
              "      display: none;\n",
              "      fill: #1967D2;\n",
              "      height: 32px;\n",
              "      padding: 0 0 0 0;\n",
              "      width: 32px;\n",
              "    }\n",
              "\n",
              "    .colab-df-convert:hover {\n",
              "      background-color: #E2EBFA;\n",
              "      box-shadow: 0px 1px 2px rgba(60, 64, 67, 0.3), 0px 1px 3px 1px rgba(60, 64, 67, 0.15);\n",
              "      fill: #174EA6;\n",
              "    }\n",
              "\n",
              "    .colab-df-buttons div {\n",
              "      margin-bottom: 4px;\n",
              "    }\n",
              "\n",
              "    [theme=dark] .colab-df-convert {\n",
              "      background-color: #3B4455;\n",
              "      fill: #D2E3FC;\n",
              "    }\n",
              "\n",
              "    [theme=dark] .colab-df-convert:hover {\n",
              "      background-color: #434B5C;\n",
              "      box-shadow: 0px 1px 3px 1px rgba(0, 0, 0, 0.15);\n",
              "      filter: drop-shadow(0px 1px 2px rgba(0, 0, 0, 0.3));\n",
              "      fill: #FFFFFF;\n",
              "    }\n",
              "  </style>\n",
              "\n",
              "    <script>\n",
              "      const buttonEl =\n",
              "        document.querySelector('#df-6d10eb44-9f15-4940-9e56-b636f850f2b4 button.colab-df-convert');\n",
              "      buttonEl.style.display =\n",
              "        google.colab.kernel.accessAllowed ? 'block' : 'none';\n",
              "\n",
              "      async function convertToInteractive(key) {\n",
              "        const element = document.querySelector('#df-6d10eb44-9f15-4940-9e56-b636f850f2b4');\n",
              "        const dataTable =\n",
              "          await google.colab.kernel.invokeFunction('convertToInteractive',\n",
              "                                                    [key], {});\n",
              "        if (!dataTable) return;\n",
              "\n",
              "        const docLinkHtml = 'Like what you see? Visit the ' +\n",
              "          '<a target=\"_blank\" href=https://colab.research.google.com/notebooks/data_table.ipynb>data table notebook</a>'\n",
              "          + ' to learn more about interactive tables.';\n",
              "        element.innerHTML = '';\n",
              "        dataTable['output_type'] = 'display_data';\n",
              "        await google.colab.output.renderOutput(dataTable, element);\n",
              "        const docLink = document.createElement('div');\n",
              "        docLink.innerHTML = docLinkHtml;\n",
              "        element.appendChild(docLink);\n",
              "      }\n",
              "    </script>\n",
              "  </div>\n",
              "\n",
              "\n",
              "<div id=\"df-26430fca-0828-4810-baf7-84fa7420a35f\">\n",
              "  <button class=\"colab-df-quickchart\" onclick=\"quickchart('df-26430fca-0828-4810-baf7-84fa7420a35f')\"\n",
              "            title=\"Suggest charts\"\n",
              "            style=\"display:none;\">\n",
              "\n",
              "<svg xmlns=\"http://www.w3.org/2000/svg\" height=\"24px\"viewBox=\"0 0 24 24\"\n",
              "     width=\"24px\">\n",
              "    <g>\n",
              "        <path d=\"M19 3H5c-1.1 0-2 .9-2 2v14c0 1.1.9 2 2 2h14c1.1 0 2-.9 2-2V5c0-1.1-.9-2-2-2zM9 17H7v-7h2v7zm4 0h-2V7h2v10zm4 0h-2v-4h2v4z\"/>\n",
              "    </g>\n",
              "</svg>\n",
              "  </button>\n",
              "\n",
              "<style>\n",
              "  .colab-df-quickchart {\n",
              "      --bg-color: #E8F0FE;\n",
              "      --fill-color: #1967D2;\n",
              "      --hover-bg-color: #E2EBFA;\n",
              "      --hover-fill-color: #174EA6;\n",
              "      --disabled-fill-color: #AAA;\n",
              "      --disabled-bg-color: #DDD;\n",
              "  }\n",
              "\n",
              "  [theme=dark] .colab-df-quickchart {\n",
              "      --bg-color: #3B4455;\n",
              "      --fill-color: #D2E3FC;\n",
              "      --hover-bg-color: #434B5C;\n",
              "      --hover-fill-color: #FFFFFF;\n",
              "      --disabled-bg-color: #3B4455;\n",
              "      --disabled-fill-color: #666;\n",
              "  }\n",
              "\n",
              "  .colab-df-quickchart {\n",
              "    background-color: var(--bg-color);\n",
              "    border: none;\n",
              "    border-radius: 50%;\n",
              "    cursor: pointer;\n",
              "    display: none;\n",
              "    fill: var(--fill-color);\n",
              "    height: 32px;\n",
              "    padding: 0;\n",
              "    width: 32px;\n",
              "  }\n",
              "\n",
              "  .colab-df-quickchart:hover {\n",
              "    background-color: var(--hover-bg-color);\n",
              "    box-shadow: 0 1px 2px rgba(60, 64, 67, 0.3), 0 1px 3px 1px rgba(60, 64, 67, 0.15);\n",
              "    fill: var(--button-hover-fill-color);\n",
              "  }\n",
              "\n",
              "  .colab-df-quickchart-complete:disabled,\n",
              "  .colab-df-quickchart-complete:disabled:hover {\n",
              "    background-color: var(--disabled-bg-color);\n",
              "    fill: var(--disabled-fill-color);\n",
              "    box-shadow: none;\n",
              "  }\n",
              "\n",
              "  .colab-df-spinner {\n",
              "    border: 2px solid var(--fill-color);\n",
              "    border-color: transparent;\n",
              "    border-bottom-color: var(--fill-color);\n",
              "    animation:\n",
              "      spin 1s steps(1) infinite;\n",
              "  }\n",
              "\n",
              "  @keyframes spin {\n",
              "    0% {\n",
              "      border-color: transparent;\n",
              "      border-bottom-color: var(--fill-color);\n",
              "      border-left-color: var(--fill-color);\n",
              "    }\n",
              "    20% {\n",
              "      border-color: transparent;\n",
              "      border-left-color: var(--fill-color);\n",
              "      border-top-color: var(--fill-color);\n",
              "    }\n",
              "    30% {\n",
              "      border-color: transparent;\n",
              "      border-left-color: var(--fill-color);\n",
              "      border-top-color: var(--fill-color);\n",
              "      border-right-color: var(--fill-color);\n",
              "    }\n",
              "    40% {\n",
              "      border-color: transparent;\n",
              "      border-right-color: var(--fill-color);\n",
              "      border-top-color: var(--fill-color);\n",
              "    }\n",
              "    60% {\n",
              "      border-color: transparent;\n",
              "      border-right-color: var(--fill-color);\n",
              "    }\n",
              "    80% {\n",
              "      border-color: transparent;\n",
              "      border-right-color: var(--fill-color);\n",
              "      border-bottom-color: var(--fill-color);\n",
              "    }\n",
              "    90% {\n",
              "      border-color: transparent;\n",
              "      border-bottom-color: var(--fill-color);\n",
              "    }\n",
              "  }\n",
              "</style>\n",
              "\n",
              "  <script>\n",
              "    async function quickchart(key) {\n",
              "      const quickchartButtonEl =\n",
              "        document.querySelector('#' + key + ' button');\n",
              "      quickchartButtonEl.disabled = true;  // To prevent multiple clicks.\n",
              "      quickchartButtonEl.classList.add('colab-df-spinner');\n",
              "      try {\n",
              "        const charts = await google.colab.kernel.invokeFunction(\n",
              "            'suggestCharts', [key], {});\n",
              "      } catch (error) {\n",
              "        console.error('Error during call to suggestCharts:', error);\n",
              "      }\n",
              "      quickchartButtonEl.classList.remove('colab-df-spinner');\n",
              "      quickchartButtonEl.classList.add('colab-df-quickchart-complete');\n",
              "    }\n",
              "    (() => {\n",
              "      let quickchartButtonEl =\n",
              "        document.querySelector('#df-26430fca-0828-4810-baf7-84fa7420a35f button');\n",
              "      quickchartButtonEl.style.display =\n",
              "        google.colab.kernel.accessAllowed ? 'block' : 'none';\n",
              "    })();\n",
              "  </script>\n",
              "</div>\n",
              "    </div>\n",
              "  </div>\n"
            ]
          },
          "metadata": {},
          "execution_count": 4
        }
      ]
    },
    {
      "cell_type": "markdown",
      "metadata": {
        "id": "S41pxHVJ5epZ"
      },
      "source": [
        "### Creating X and Y"
      ]
    },
    {
      "cell_type": "code",
      "execution_count": 5,
      "metadata": {
        "id": "DjnxZvhpgqKy"
      },
      "outputs": [],
      "source": [
        "x = df.iloc[:, :-1]\n",
        "y = df.iloc[:,-1:]"
      ]
    },
    {
      "cell_type": "code",
      "execution_count": 6,
      "metadata": {
        "colab": {
          "base_uri": "https://localhost:8080/",
          "height": 423
        },
        "id": "BVr2ve7Ckp1U",
        "outputId": "81e0088b-1208-401f-a733-d208d1813410"
      },
      "outputs": [
        {
          "output_type": "execute_result",
          "data": {
            "text/plain": [
              "           AF3       F7       F3      FC5       T7       P7       O1       O2  \\\n",
              "0      4329.23  4009.23  4289.23  4148.21  4350.26  4586.15  4096.92  4641.03   \n",
              "1      4324.62  4004.62  4293.85  4148.72  4342.05  4586.67  4097.44  4638.97   \n",
              "2      4327.69  4006.67  4295.38  4156.41  4336.92  4583.59  4096.92  4630.26   \n",
              "3      4328.72  4011.79  4296.41  4155.90  4343.59  4582.56  4097.44  4630.77   \n",
              "4      4326.15  4011.79  4292.31  4151.28  4347.69  4586.67  4095.90  4627.69   \n",
              "...        ...      ...      ...      ...      ...      ...      ...      ...   \n",
              "14975  4281.03  3990.26  4245.64  4116.92  4333.85  4614.36  4074.87  4625.64   \n",
              "14976  4276.92  3991.79  4245.13  4110.77  4332.82  4615.38  4073.33  4621.54   \n",
              "14977  4277.44  3990.77  4246.67  4113.85  4333.33  4615.38  4072.82  4623.59   \n",
              "14978  4284.62  3991.79  4251.28  4122.05  4334.36  4616.41  4080.51  4628.72   \n",
              "14979  4287.69  3997.44  4260.00  4121.03  4333.33  4616.41  4088.72  4638.46   \n",
              "\n",
              "            P8       T8      FC6       F4       F8      AF4  \n",
              "0      4222.05  4238.46  4211.28  4280.51  4635.90  4393.85  \n",
              "1      4210.77  4226.67  4207.69  4279.49  4632.82  4384.10  \n",
              "2      4207.69  4222.05  4206.67  4282.05  4628.72  4389.23  \n",
              "3      4217.44  4235.38  4210.77  4287.69  4632.31  4396.41  \n",
              "4      4210.77  4244.10  4212.82  4288.21  4632.82  4398.46  \n",
              "...        ...      ...      ...      ...      ...      ...  \n",
              "14975  4203.08  4221.54  4171.28  4269.23  4593.33  4340.51  \n",
              "14976  4194.36  4217.44  4162.56  4259.49  4590.26  4333.33  \n",
              "14977  4193.33  4212.82  4160.51  4257.95  4591.79  4339.49  \n",
              "14978  4200.00  4220.00  4165.64  4267.18  4596.41  4350.77  \n",
              "14979  4212.31  4226.67  4167.69  4274.36  4597.95  4350.77  \n",
              "\n",
              "[14980 rows x 14 columns]"
            ],
            "text/html": [
              "\n",
              "  <div id=\"df-576543a1-35bf-465d-b4a0-d44e83ebaa52\" class=\"colab-df-container\">\n",
              "    <div>\n",
              "<style scoped>\n",
              "    .dataframe tbody tr th:only-of-type {\n",
              "        vertical-align: middle;\n",
              "    }\n",
              "\n",
              "    .dataframe tbody tr th {\n",
              "        vertical-align: top;\n",
              "    }\n",
              "\n",
              "    .dataframe thead th {\n",
              "        text-align: right;\n",
              "    }\n",
              "</style>\n",
              "<table border=\"1\" class=\"dataframe\">\n",
              "  <thead>\n",
              "    <tr style=\"text-align: right;\">\n",
              "      <th></th>\n",
              "      <th>AF3</th>\n",
              "      <th>F7</th>\n",
              "      <th>F3</th>\n",
              "      <th>FC5</th>\n",
              "      <th>T7</th>\n",
              "      <th>P7</th>\n",
              "      <th>O1</th>\n",
              "      <th>O2</th>\n",
              "      <th>P8</th>\n",
              "      <th>T8</th>\n",
              "      <th>FC6</th>\n",
              "      <th>F4</th>\n",
              "      <th>F8</th>\n",
              "      <th>AF4</th>\n",
              "    </tr>\n",
              "  </thead>\n",
              "  <tbody>\n",
              "    <tr>\n",
              "      <th>0</th>\n",
              "      <td>4329.23</td>\n",
              "      <td>4009.23</td>\n",
              "      <td>4289.23</td>\n",
              "      <td>4148.21</td>\n",
              "      <td>4350.26</td>\n",
              "      <td>4586.15</td>\n",
              "      <td>4096.92</td>\n",
              "      <td>4641.03</td>\n",
              "      <td>4222.05</td>\n",
              "      <td>4238.46</td>\n",
              "      <td>4211.28</td>\n",
              "      <td>4280.51</td>\n",
              "      <td>4635.90</td>\n",
              "      <td>4393.85</td>\n",
              "    </tr>\n",
              "    <tr>\n",
              "      <th>1</th>\n",
              "      <td>4324.62</td>\n",
              "      <td>4004.62</td>\n",
              "      <td>4293.85</td>\n",
              "      <td>4148.72</td>\n",
              "      <td>4342.05</td>\n",
              "      <td>4586.67</td>\n",
              "      <td>4097.44</td>\n",
              "      <td>4638.97</td>\n",
              "      <td>4210.77</td>\n",
              "      <td>4226.67</td>\n",
              "      <td>4207.69</td>\n",
              "      <td>4279.49</td>\n",
              "      <td>4632.82</td>\n",
              "      <td>4384.10</td>\n",
              "    </tr>\n",
              "    <tr>\n",
              "      <th>2</th>\n",
              "      <td>4327.69</td>\n",
              "      <td>4006.67</td>\n",
              "      <td>4295.38</td>\n",
              "      <td>4156.41</td>\n",
              "      <td>4336.92</td>\n",
              "      <td>4583.59</td>\n",
              "      <td>4096.92</td>\n",
              "      <td>4630.26</td>\n",
              "      <td>4207.69</td>\n",
              "      <td>4222.05</td>\n",
              "      <td>4206.67</td>\n",
              "      <td>4282.05</td>\n",
              "      <td>4628.72</td>\n",
              "      <td>4389.23</td>\n",
              "    </tr>\n",
              "    <tr>\n",
              "      <th>3</th>\n",
              "      <td>4328.72</td>\n",
              "      <td>4011.79</td>\n",
              "      <td>4296.41</td>\n",
              "      <td>4155.90</td>\n",
              "      <td>4343.59</td>\n",
              "      <td>4582.56</td>\n",
              "      <td>4097.44</td>\n",
              "      <td>4630.77</td>\n",
              "      <td>4217.44</td>\n",
              "      <td>4235.38</td>\n",
              "      <td>4210.77</td>\n",
              "      <td>4287.69</td>\n",
              "      <td>4632.31</td>\n",
              "      <td>4396.41</td>\n",
              "    </tr>\n",
              "    <tr>\n",
              "      <th>4</th>\n",
              "      <td>4326.15</td>\n",
              "      <td>4011.79</td>\n",
              "      <td>4292.31</td>\n",
              "      <td>4151.28</td>\n",
              "      <td>4347.69</td>\n",
              "      <td>4586.67</td>\n",
              "      <td>4095.90</td>\n",
              "      <td>4627.69</td>\n",
              "      <td>4210.77</td>\n",
              "      <td>4244.10</td>\n",
              "      <td>4212.82</td>\n",
              "      <td>4288.21</td>\n",
              "      <td>4632.82</td>\n",
              "      <td>4398.46</td>\n",
              "    </tr>\n",
              "    <tr>\n",
              "      <th>...</th>\n",
              "      <td>...</td>\n",
              "      <td>...</td>\n",
              "      <td>...</td>\n",
              "      <td>...</td>\n",
              "      <td>...</td>\n",
              "      <td>...</td>\n",
              "      <td>...</td>\n",
              "      <td>...</td>\n",
              "      <td>...</td>\n",
              "      <td>...</td>\n",
              "      <td>...</td>\n",
              "      <td>...</td>\n",
              "      <td>...</td>\n",
              "      <td>...</td>\n",
              "    </tr>\n",
              "    <tr>\n",
              "      <th>14975</th>\n",
              "      <td>4281.03</td>\n",
              "      <td>3990.26</td>\n",
              "      <td>4245.64</td>\n",
              "      <td>4116.92</td>\n",
              "      <td>4333.85</td>\n",
              "      <td>4614.36</td>\n",
              "      <td>4074.87</td>\n",
              "      <td>4625.64</td>\n",
              "      <td>4203.08</td>\n",
              "      <td>4221.54</td>\n",
              "      <td>4171.28</td>\n",
              "      <td>4269.23</td>\n",
              "      <td>4593.33</td>\n",
              "      <td>4340.51</td>\n",
              "    </tr>\n",
              "    <tr>\n",
              "      <th>14976</th>\n",
              "      <td>4276.92</td>\n",
              "      <td>3991.79</td>\n",
              "      <td>4245.13</td>\n",
              "      <td>4110.77</td>\n",
              "      <td>4332.82</td>\n",
              "      <td>4615.38</td>\n",
              "      <td>4073.33</td>\n",
              "      <td>4621.54</td>\n",
              "      <td>4194.36</td>\n",
              "      <td>4217.44</td>\n",
              "      <td>4162.56</td>\n",
              "      <td>4259.49</td>\n",
              "      <td>4590.26</td>\n",
              "      <td>4333.33</td>\n",
              "    </tr>\n",
              "    <tr>\n",
              "      <th>14977</th>\n",
              "      <td>4277.44</td>\n",
              "      <td>3990.77</td>\n",
              "      <td>4246.67</td>\n",
              "      <td>4113.85</td>\n",
              "      <td>4333.33</td>\n",
              "      <td>4615.38</td>\n",
              "      <td>4072.82</td>\n",
              "      <td>4623.59</td>\n",
              "      <td>4193.33</td>\n",
              "      <td>4212.82</td>\n",
              "      <td>4160.51</td>\n",
              "      <td>4257.95</td>\n",
              "      <td>4591.79</td>\n",
              "      <td>4339.49</td>\n",
              "    </tr>\n",
              "    <tr>\n",
              "      <th>14978</th>\n",
              "      <td>4284.62</td>\n",
              "      <td>3991.79</td>\n",
              "      <td>4251.28</td>\n",
              "      <td>4122.05</td>\n",
              "      <td>4334.36</td>\n",
              "      <td>4616.41</td>\n",
              "      <td>4080.51</td>\n",
              "      <td>4628.72</td>\n",
              "      <td>4200.00</td>\n",
              "      <td>4220.00</td>\n",
              "      <td>4165.64</td>\n",
              "      <td>4267.18</td>\n",
              "      <td>4596.41</td>\n",
              "      <td>4350.77</td>\n",
              "    </tr>\n",
              "    <tr>\n",
              "      <th>14979</th>\n",
              "      <td>4287.69</td>\n",
              "      <td>3997.44</td>\n",
              "      <td>4260.00</td>\n",
              "      <td>4121.03</td>\n",
              "      <td>4333.33</td>\n",
              "      <td>4616.41</td>\n",
              "      <td>4088.72</td>\n",
              "      <td>4638.46</td>\n",
              "      <td>4212.31</td>\n",
              "      <td>4226.67</td>\n",
              "      <td>4167.69</td>\n",
              "      <td>4274.36</td>\n",
              "      <td>4597.95</td>\n",
              "      <td>4350.77</td>\n",
              "    </tr>\n",
              "  </tbody>\n",
              "</table>\n",
              "<p>14980 rows × 14 columns</p>\n",
              "</div>\n",
              "    <div class=\"colab-df-buttons\">\n",
              "\n",
              "  <div class=\"colab-df-container\">\n",
              "    <button class=\"colab-df-convert\" onclick=\"convertToInteractive('df-576543a1-35bf-465d-b4a0-d44e83ebaa52')\"\n",
              "            title=\"Convert this dataframe to an interactive table.\"\n",
              "            style=\"display:none;\">\n",
              "\n",
              "  <svg xmlns=\"http://www.w3.org/2000/svg\" height=\"24px\" viewBox=\"0 -960 960 960\">\n",
              "    <path d=\"M120-120v-720h720v720H120Zm60-500h600v-160H180v160Zm220 220h160v-160H400v160Zm0 220h160v-160H400v160ZM180-400h160v-160H180v160Zm440 0h160v-160H620v160ZM180-180h160v-160H180v160Zm440 0h160v-160H620v160Z\"/>\n",
              "  </svg>\n",
              "    </button>\n",
              "\n",
              "  <style>\n",
              "    .colab-df-container {\n",
              "      display:flex;\n",
              "      gap: 12px;\n",
              "    }\n",
              "\n",
              "    .colab-df-convert {\n",
              "      background-color: #E8F0FE;\n",
              "      border: none;\n",
              "      border-radius: 50%;\n",
              "      cursor: pointer;\n",
              "      display: none;\n",
              "      fill: #1967D2;\n",
              "      height: 32px;\n",
              "      padding: 0 0 0 0;\n",
              "      width: 32px;\n",
              "    }\n",
              "\n",
              "    .colab-df-convert:hover {\n",
              "      background-color: #E2EBFA;\n",
              "      box-shadow: 0px 1px 2px rgba(60, 64, 67, 0.3), 0px 1px 3px 1px rgba(60, 64, 67, 0.15);\n",
              "      fill: #174EA6;\n",
              "    }\n",
              "\n",
              "    .colab-df-buttons div {\n",
              "      margin-bottom: 4px;\n",
              "    }\n",
              "\n",
              "    [theme=dark] .colab-df-convert {\n",
              "      background-color: #3B4455;\n",
              "      fill: #D2E3FC;\n",
              "    }\n",
              "\n",
              "    [theme=dark] .colab-df-convert:hover {\n",
              "      background-color: #434B5C;\n",
              "      box-shadow: 0px 1px 3px 1px rgba(0, 0, 0, 0.15);\n",
              "      filter: drop-shadow(0px 1px 2px rgba(0, 0, 0, 0.3));\n",
              "      fill: #FFFFFF;\n",
              "    }\n",
              "  </style>\n",
              "\n",
              "    <script>\n",
              "      const buttonEl =\n",
              "        document.querySelector('#df-576543a1-35bf-465d-b4a0-d44e83ebaa52 button.colab-df-convert');\n",
              "      buttonEl.style.display =\n",
              "        google.colab.kernel.accessAllowed ? 'block' : 'none';\n",
              "\n",
              "      async function convertToInteractive(key) {\n",
              "        const element = document.querySelector('#df-576543a1-35bf-465d-b4a0-d44e83ebaa52');\n",
              "        const dataTable =\n",
              "          await google.colab.kernel.invokeFunction('convertToInteractive',\n",
              "                                                    [key], {});\n",
              "        if (!dataTable) return;\n",
              "\n",
              "        const docLinkHtml = 'Like what you see? Visit the ' +\n",
              "          '<a target=\"_blank\" href=https://colab.research.google.com/notebooks/data_table.ipynb>data table notebook</a>'\n",
              "          + ' to learn more about interactive tables.';\n",
              "        element.innerHTML = '';\n",
              "        dataTable['output_type'] = 'display_data';\n",
              "        await google.colab.output.renderOutput(dataTable, element);\n",
              "        const docLink = document.createElement('div');\n",
              "        docLink.innerHTML = docLinkHtml;\n",
              "        element.appendChild(docLink);\n",
              "      }\n",
              "    </script>\n",
              "  </div>\n",
              "\n",
              "\n",
              "<div id=\"df-88f9e426-1b9d-44ba-9807-354d9e27fc4a\">\n",
              "  <button class=\"colab-df-quickchart\" onclick=\"quickchart('df-88f9e426-1b9d-44ba-9807-354d9e27fc4a')\"\n",
              "            title=\"Suggest charts\"\n",
              "            style=\"display:none;\">\n",
              "\n",
              "<svg xmlns=\"http://www.w3.org/2000/svg\" height=\"24px\"viewBox=\"0 0 24 24\"\n",
              "     width=\"24px\">\n",
              "    <g>\n",
              "        <path d=\"M19 3H5c-1.1 0-2 .9-2 2v14c0 1.1.9 2 2 2h14c1.1 0 2-.9 2-2V5c0-1.1-.9-2-2-2zM9 17H7v-7h2v7zm4 0h-2V7h2v10zm4 0h-2v-4h2v4z\"/>\n",
              "    </g>\n",
              "</svg>\n",
              "  </button>\n",
              "\n",
              "<style>\n",
              "  .colab-df-quickchart {\n",
              "      --bg-color: #E8F0FE;\n",
              "      --fill-color: #1967D2;\n",
              "      --hover-bg-color: #E2EBFA;\n",
              "      --hover-fill-color: #174EA6;\n",
              "      --disabled-fill-color: #AAA;\n",
              "      --disabled-bg-color: #DDD;\n",
              "  }\n",
              "\n",
              "  [theme=dark] .colab-df-quickchart {\n",
              "      --bg-color: #3B4455;\n",
              "      --fill-color: #D2E3FC;\n",
              "      --hover-bg-color: #434B5C;\n",
              "      --hover-fill-color: #FFFFFF;\n",
              "      --disabled-bg-color: #3B4455;\n",
              "      --disabled-fill-color: #666;\n",
              "  }\n",
              "\n",
              "  .colab-df-quickchart {\n",
              "    background-color: var(--bg-color);\n",
              "    border: none;\n",
              "    border-radius: 50%;\n",
              "    cursor: pointer;\n",
              "    display: none;\n",
              "    fill: var(--fill-color);\n",
              "    height: 32px;\n",
              "    padding: 0;\n",
              "    width: 32px;\n",
              "  }\n",
              "\n",
              "  .colab-df-quickchart:hover {\n",
              "    background-color: var(--hover-bg-color);\n",
              "    box-shadow: 0 1px 2px rgba(60, 64, 67, 0.3), 0 1px 3px 1px rgba(60, 64, 67, 0.15);\n",
              "    fill: var(--button-hover-fill-color);\n",
              "  }\n",
              "\n",
              "  .colab-df-quickchart-complete:disabled,\n",
              "  .colab-df-quickchart-complete:disabled:hover {\n",
              "    background-color: var(--disabled-bg-color);\n",
              "    fill: var(--disabled-fill-color);\n",
              "    box-shadow: none;\n",
              "  }\n",
              "\n",
              "  .colab-df-spinner {\n",
              "    border: 2px solid var(--fill-color);\n",
              "    border-color: transparent;\n",
              "    border-bottom-color: var(--fill-color);\n",
              "    animation:\n",
              "      spin 1s steps(1) infinite;\n",
              "  }\n",
              "\n",
              "  @keyframes spin {\n",
              "    0% {\n",
              "      border-color: transparent;\n",
              "      border-bottom-color: var(--fill-color);\n",
              "      border-left-color: var(--fill-color);\n",
              "    }\n",
              "    20% {\n",
              "      border-color: transparent;\n",
              "      border-left-color: var(--fill-color);\n",
              "      border-top-color: var(--fill-color);\n",
              "    }\n",
              "    30% {\n",
              "      border-color: transparent;\n",
              "      border-left-color: var(--fill-color);\n",
              "      border-top-color: var(--fill-color);\n",
              "      border-right-color: var(--fill-color);\n",
              "    }\n",
              "    40% {\n",
              "      border-color: transparent;\n",
              "      border-right-color: var(--fill-color);\n",
              "      border-top-color: var(--fill-color);\n",
              "    }\n",
              "    60% {\n",
              "      border-color: transparent;\n",
              "      border-right-color: var(--fill-color);\n",
              "    }\n",
              "    80% {\n",
              "      border-color: transparent;\n",
              "      border-right-color: var(--fill-color);\n",
              "      border-bottom-color: var(--fill-color);\n",
              "    }\n",
              "    90% {\n",
              "      border-color: transparent;\n",
              "      border-bottom-color: var(--fill-color);\n",
              "    }\n",
              "  }\n",
              "</style>\n",
              "\n",
              "  <script>\n",
              "    async function quickchart(key) {\n",
              "      const quickchartButtonEl =\n",
              "        document.querySelector('#' + key + ' button');\n",
              "      quickchartButtonEl.disabled = true;  // To prevent multiple clicks.\n",
              "      quickchartButtonEl.classList.add('colab-df-spinner');\n",
              "      try {\n",
              "        const charts = await google.colab.kernel.invokeFunction(\n",
              "            'suggestCharts', [key], {});\n",
              "      } catch (error) {\n",
              "        console.error('Error during call to suggestCharts:', error);\n",
              "      }\n",
              "      quickchartButtonEl.classList.remove('colab-df-spinner');\n",
              "      quickchartButtonEl.classList.add('colab-df-quickchart-complete');\n",
              "    }\n",
              "    (() => {\n",
              "      let quickchartButtonEl =\n",
              "        document.querySelector('#df-88f9e426-1b9d-44ba-9807-354d9e27fc4a button');\n",
              "      quickchartButtonEl.style.display =\n",
              "        google.colab.kernel.accessAllowed ? 'block' : 'none';\n",
              "    })();\n",
              "  </script>\n",
              "</div>\n",
              "    </div>\n",
              "  </div>\n"
            ]
          },
          "metadata": {},
          "execution_count": 6
        }
      ],
      "source": [
        "x"
      ]
    },
    {
      "cell_type": "code",
      "execution_count": 7,
      "metadata": {
        "colab": {
          "base_uri": "https://localhost:8080/",
          "height": 423
        },
        "id": "JTySF2jYUyrO",
        "outputId": "e39a6132-9cc6-4a7c-a13b-fb19f1bda00c"
      },
      "outputs": [
        {
          "output_type": "execute_result",
          "data": {
            "text/plain": [
              "      eyeDetection\n",
              "0                0\n",
              "1                0\n",
              "2                0\n",
              "3                0\n",
              "4                0\n",
              "...            ...\n",
              "14975            1\n",
              "14976            1\n",
              "14977            1\n",
              "14978            1\n",
              "14979            1\n",
              "\n",
              "[14980 rows x 1 columns]"
            ],
            "text/html": [
              "\n",
              "  <div id=\"df-161de92c-d3bc-428c-b0d2-440b52f42320\" class=\"colab-df-container\">\n",
              "    <div>\n",
              "<style scoped>\n",
              "    .dataframe tbody tr th:only-of-type {\n",
              "        vertical-align: middle;\n",
              "    }\n",
              "\n",
              "    .dataframe tbody tr th {\n",
              "        vertical-align: top;\n",
              "    }\n",
              "\n",
              "    .dataframe thead th {\n",
              "        text-align: right;\n",
              "    }\n",
              "</style>\n",
              "<table border=\"1\" class=\"dataframe\">\n",
              "  <thead>\n",
              "    <tr style=\"text-align: right;\">\n",
              "      <th></th>\n",
              "      <th>eyeDetection</th>\n",
              "    </tr>\n",
              "  </thead>\n",
              "  <tbody>\n",
              "    <tr>\n",
              "      <th>0</th>\n",
              "      <td>0</td>\n",
              "    </tr>\n",
              "    <tr>\n",
              "      <th>1</th>\n",
              "      <td>0</td>\n",
              "    </tr>\n",
              "    <tr>\n",
              "      <th>2</th>\n",
              "      <td>0</td>\n",
              "    </tr>\n",
              "    <tr>\n",
              "      <th>3</th>\n",
              "      <td>0</td>\n",
              "    </tr>\n",
              "    <tr>\n",
              "      <th>4</th>\n",
              "      <td>0</td>\n",
              "    </tr>\n",
              "    <tr>\n",
              "      <th>...</th>\n",
              "      <td>...</td>\n",
              "    </tr>\n",
              "    <tr>\n",
              "      <th>14975</th>\n",
              "      <td>1</td>\n",
              "    </tr>\n",
              "    <tr>\n",
              "      <th>14976</th>\n",
              "      <td>1</td>\n",
              "    </tr>\n",
              "    <tr>\n",
              "      <th>14977</th>\n",
              "      <td>1</td>\n",
              "    </tr>\n",
              "    <tr>\n",
              "      <th>14978</th>\n",
              "      <td>1</td>\n",
              "    </tr>\n",
              "    <tr>\n",
              "      <th>14979</th>\n",
              "      <td>1</td>\n",
              "    </tr>\n",
              "  </tbody>\n",
              "</table>\n",
              "<p>14980 rows × 1 columns</p>\n",
              "</div>\n",
              "    <div class=\"colab-df-buttons\">\n",
              "\n",
              "  <div class=\"colab-df-container\">\n",
              "    <button class=\"colab-df-convert\" onclick=\"convertToInteractive('df-161de92c-d3bc-428c-b0d2-440b52f42320')\"\n",
              "            title=\"Convert this dataframe to an interactive table.\"\n",
              "            style=\"display:none;\">\n",
              "\n",
              "  <svg xmlns=\"http://www.w3.org/2000/svg\" height=\"24px\" viewBox=\"0 -960 960 960\">\n",
              "    <path d=\"M120-120v-720h720v720H120Zm60-500h600v-160H180v160Zm220 220h160v-160H400v160Zm0 220h160v-160H400v160ZM180-400h160v-160H180v160Zm440 0h160v-160H620v160ZM180-180h160v-160H180v160Zm440 0h160v-160H620v160Z\"/>\n",
              "  </svg>\n",
              "    </button>\n",
              "\n",
              "  <style>\n",
              "    .colab-df-container {\n",
              "      display:flex;\n",
              "      gap: 12px;\n",
              "    }\n",
              "\n",
              "    .colab-df-convert {\n",
              "      background-color: #E8F0FE;\n",
              "      border: none;\n",
              "      border-radius: 50%;\n",
              "      cursor: pointer;\n",
              "      display: none;\n",
              "      fill: #1967D2;\n",
              "      height: 32px;\n",
              "      padding: 0 0 0 0;\n",
              "      width: 32px;\n",
              "    }\n",
              "\n",
              "    .colab-df-convert:hover {\n",
              "      background-color: #E2EBFA;\n",
              "      box-shadow: 0px 1px 2px rgba(60, 64, 67, 0.3), 0px 1px 3px 1px rgba(60, 64, 67, 0.15);\n",
              "      fill: #174EA6;\n",
              "    }\n",
              "\n",
              "    .colab-df-buttons div {\n",
              "      margin-bottom: 4px;\n",
              "    }\n",
              "\n",
              "    [theme=dark] .colab-df-convert {\n",
              "      background-color: #3B4455;\n",
              "      fill: #D2E3FC;\n",
              "    }\n",
              "\n",
              "    [theme=dark] .colab-df-convert:hover {\n",
              "      background-color: #434B5C;\n",
              "      box-shadow: 0px 1px 3px 1px rgba(0, 0, 0, 0.15);\n",
              "      filter: drop-shadow(0px 1px 2px rgba(0, 0, 0, 0.3));\n",
              "      fill: #FFFFFF;\n",
              "    }\n",
              "  </style>\n",
              "\n",
              "    <script>\n",
              "      const buttonEl =\n",
              "        document.querySelector('#df-161de92c-d3bc-428c-b0d2-440b52f42320 button.colab-df-convert');\n",
              "      buttonEl.style.display =\n",
              "        google.colab.kernel.accessAllowed ? 'block' : 'none';\n",
              "\n",
              "      async function convertToInteractive(key) {\n",
              "        const element = document.querySelector('#df-161de92c-d3bc-428c-b0d2-440b52f42320');\n",
              "        const dataTable =\n",
              "          await google.colab.kernel.invokeFunction('convertToInteractive',\n",
              "                                                    [key], {});\n",
              "        if (!dataTable) return;\n",
              "\n",
              "        const docLinkHtml = 'Like what you see? Visit the ' +\n",
              "          '<a target=\"_blank\" href=https://colab.research.google.com/notebooks/data_table.ipynb>data table notebook</a>'\n",
              "          + ' to learn more about interactive tables.';\n",
              "        element.innerHTML = '';\n",
              "        dataTable['output_type'] = 'display_data';\n",
              "        await google.colab.output.renderOutput(dataTable, element);\n",
              "        const docLink = document.createElement('div');\n",
              "        docLink.innerHTML = docLinkHtml;\n",
              "        element.appendChild(docLink);\n",
              "      }\n",
              "    </script>\n",
              "  </div>\n",
              "\n",
              "\n",
              "<div id=\"df-679fccbb-ff65-432d-bb8d-b08fb69fb2a4\">\n",
              "  <button class=\"colab-df-quickchart\" onclick=\"quickchart('df-679fccbb-ff65-432d-bb8d-b08fb69fb2a4')\"\n",
              "            title=\"Suggest charts\"\n",
              "            style=\"display:none;\">\n",
              "\n",
              "<svg xmlns=\"http://www.w3.org/2000/svg\" height=\"24px\"viewBox=\"0 0 24 24\"\n",
              "     width=\"24px\">\n",
              "    <g>\n",
              "        <path d=\"M19 3H5c-1.1 0-2 .9-2 2v14c0 1.1.9 2 2 2h14c1.1 0 2-.9 2-2V5c0-1.1-.9-2-2-2zM9 17H7v-7h2v7zm4 0h-2V7h2v10zm4 0h-2v-4h2v4z\"/>\n",
              "    </g>\n",
              "</svg>\n",
              "  </button>\n",
              "\n",
              "<style>\n",
              "  .colab-df-quickchart {\n",
              "      --bg-color: #E8F0FE;\n",
              "      --fill-color: #1967D2;\n",
              "      --hover-bg-color: #E2EBFA;\n",
              "      --hover-fill-color: #174EA6;\n",
              "      --disabled-fill-color: #AAA;\n",
              "      --disabled-bg-color: #DDD;\n",
              "  }\n",
              "\n",
              "  [theme=dark] .colab-df-quickchart {\n",
              "      --bg-color: #3B4455;\n",
              "      --fill-color: #D2E3FC;\n",
              "      --hover-bg-color: #434B5C;\n",
              "      --hover-fill-color: #FFFFFF;\n",
              "      --disabled-bg-color: #3B4455;\n",
              "      --disabled-fill-color: #666;\n",
              "  }\n",
              "\n",
              "  .colab-df-quickchart {\n",
              "    background-color: var(--bg-color);\n",
              "    border: none;\n",
              "    border-radius: 50%;\n",
              "    cursor: pointer;\n",
              "    display: none;\n",
              "    fill: var(--fill-color);\n",
              "    height: 32px;\n",
              "    padding: 0;\n",
              "    width: 32px;\n",
              "  }\n",
              "\n",
              "  .colab-df-quickchart:hover {\n",
              "    background-color: var(--hover-bg-color);\n",
              "    box-shadow: 0 1px 2px rgba(60, 64, 67, 0.3), 0 1px 3px 1px rgba(60, 64, 67, 0.15);\n",
              "    fill: var(--button-hover-fill-color);\n",
              "  }\n",
              "\n",
              "  .colab-df-quickchart-complete:disabled,\n",
              "  .colab-df-quickchart-complete:disabled:hover {\n",
              "    background-color: var(--disabled-bg-color);\n",
              "    fill: var(--disabled-fill-color);\n",
              "    box-shadow: none;\n",
              "  }\n",
              "\n",
              "  .colab-df-spinner {\n",
              "    border: 2px solid var(--fill-color);\n",
              "    border-color: transparent;\n",
              "    border-bottom-color: var(--fill-color);\n",
              "    animation:\n",
              "      spin 1s steps(1) infinite;\n",
              "  }\n",
              "\n",
              "  @keyframes spin {\n",
              "    0% {\n",
              "      border-color: transparent;\n",
              "      border-bottom-color: var(--fill-color);\n",
              "      border-left-color: var(--fill-color);\n",
              "    }\n",
              "    20% {\n",
              "      border-color: transparent;\n",
              "      border-left-color: var(--fill-color);\n",
              "      border-top-color: var(--fill-color);\n",
              "    }\n",
              "    30% {\n",
              "      border-color: transparent;\n",
              "      border-left-color: var(--fill-color);\n",
              "      border-top-color: var(--fill-color);\n",
              "      border-right-color: var(--fill-color);\n",
              "    }\n",
              "    40% {\n",
              "      border-color: transparent;\n",
              "      border-right-color: var(--fill-color);\n",
              "      border-top-color: var(--fill-color);\n",
              "    }\n",
              "    60% {\n",
              "      border-color: transparent;\n",
              "      border-right-color: var(--fill-color);\n",
              "    }\n",
              "    80% {\n",
              "      border-color: transparent;\n",
              "      border-right-color: var(--fill-color);\n",
              "      border-bottom-color: var(--fill-color);\n",
              "    }\n",
              "    90% {\n",
              "      border-color: transparent;\n",
              "      border-bottom-color: var(--fill-color);\n",
              "    }\n",
              "  }\n",
              "</style>\n",
              "\n",
              "  <script>\n",
              "    async function quickchart(key) {\n",
              "      const quickchartButtonEl =\n",
              "        document.querySelector('#' + key + ' button');\n",
              "      quickchartButtonEl.disabled = true;  // To prevent multiple clicks.\n",
              "      quickchartButtonEl.classList.add('colab-df-spinner');\n",
              "      try {\n",
              "        const charts = await google.colab.kernel.invokeFunction(\n",
              "            'suggestCharts', [key], {});\n",
              "      } catch (error) {\n",
              "        console.error('Error during call to suggestCharts:', error);\n",
              "      }\n",
              "      quickchartButtonEl.classList.remove('colab-df-spinner');\n",
              "      quickchartButtonEl.classList.add('colab-df-quickchart-complete');\n",
              "    }\n",
              "    (() => {\n",
              "      let quickchartButtonEl =\n",
              "        document.querySelector('#df-679fccbb-ff65-432d-bb8d-b08fb69fb2a4 button');\n",
              "      quickchartButtonEl.style.display =\n",
              "        google.colab.kernel.accessAllowed ? 'block' : 'none';\n",
              "    })();\n",
              "  </script>\n",
              "</div>\n",
              "    </div>\n",
              "  </div>\n"
            ]
          },
          "metadata": {},
          "execution_count": 7
        }
      ],
      "source": [
        "y"
      ]
    },
    {
      "cell_type": "code",
      "source": [
        "model_scores = []"
      ],
      "metadata": {
        "id": "HuYOxAvhfvSX"
      },
      "execution_count": 8,
      "outputs": []
    },
    {
      "cell_type": "markdown",
      "metadata": {
        "id": "X1tcVoh6kq9p"
      },
      "source": [
        "# Statistical Features Extraction using PCA"
      ]
    },
    {
      "cell_type": "markdown",
      "source": [
        "## Data Preparation"
      ],
      "metadata": {
        "id": "bNI0h04-LUn7"
      }
    },
    {
      "cell_type": "code",
      "source": [
        "from sklearn.model_selection import train_test_split\n",
        "X_train, X_test, y_train, y_test = train_test_split(x,y,test_size = 0.2, random_state=42)"
      ],
      "metadata": {
        "id": "VFoGecSLLg8q"
      },
      "execution_count": 9,
      "outputs": []
    },
    {
      "cell_type": "code",
      "source": [
        "X_train.shape"
      ],
      "metadata": {
        "colab": {
          "base_uri": "https://localhost:8080/"
        },
        "id": "0cFGnDh8LxPy",
        "outputId": "bc4cd933-70e6-4f6d-e533-dc5b0d1cf068"
      },
      "execution_count": 10,
      "outputs": [
        {
          "output_type": "execute_result",
          "data": {
            "text/plain": [
              "(11984, 14)"
            ]
          },
          "metadata": {},
          "execution_count": 10
        }
      ]
    },
    {
      "cell_type": "code",
      "source": [
        "X_test.shape"
      ],
      "metadata": {
        "colab": {
          "base_uri": "https://localhost:8080/"
        },
        "id": "f99zfArdMBpL",
        "outputId": "54290cc3-54d5-4074-9443-07d313ac0266"
      },
      "execution_count": 11,
      "outputs": [
        {
          "output_type": "execute_result",
          "data": {
            "text/plain": [
              "(2996, 14)"
            ]
          },
          "metadata": {},
          "execution_count": 11
        }
      ]
    },
    {
      "cell_type": "markdown",
      "source": [
        "## Data Preprocessing"
      ],
      "metadata": {
        "id": "if3hoFhXMMAr"
      }
    },
    {
      "cell_type": "code",
      "source": [
        "from sklearn.preprocessing import StandardScaler\n",
        "scaler = StandardScaler()\n",
        "\n",
        "X_train_trf = scaler.fit_transform(X_train)\n",
        "X_test_trf = scaler.transform(X_test)"
      ],
      "metadata": {
        "id": "H8L5Ipm9MKsy"
      },
      "execution_count": 12,
      "outputs": []
    },
    {
      "cell_type": "markdown",
      "source": [
        "## PCA"
      ],
      "metadata": {
        "id": "Dw2JT5xfNNj3"
      }
    },
    {
      "cell_type": "code",
      "source": [
        "from sklearn.decomposition import PCA\n",
        "pca = PCA(n_components=None)"
      ],
      "metadata": {
        "id": "FY5HD0mVNK_T"
      },
      "execution_count": 13,
      "outputs": []
    },
    {
      "cell_type": "code",
      "source": [
        "X_train_pca = pca.fit_transform(X_train_trf)\n",
        "X_test_pca = pca.transform(X_test_trf)"
      ],
      "metadata": {
        "id": "Yv7dws_eOWPk"
      },
      "execution_count": 14,
      "outputs": []
    },
    {
      "cell_type": "code",
      "source": [
        "pca.explained_variance_ratio_"
      ],
      "metadata": {
        "colab": {
          "base_uri": "https://localhost:8080/"
        },
        "id": "LngCETdnO1hX",
        "outputId": "048d8397-8f0c-406f-e67e-b031f39997e7"
      },
      "execution_count": 15,
      "outputs": [
        {
          "output_type": "execute_result",
          "data": {
            "text/plain": [
              "array([3.11188572e-01, 2.75351877e-01, 2.22343922e-01, 1.10886839e-01,\n",
              "       4.79263203e-02, 1.78342192e-02, 6.22034047e-03, 4.58090354e-03,\n",
              "       2.51189412e-03, 1.14732230e-03, 5.28239139e-06, 1.83989894e-06,\n",
              "       3.74172898e-07, 2.94074849e-07])"
            ]
          },
          "metadata": {},
          "execution_count": 15
        }
      ]
    },
    {
      "cell_type": "code",
      "source": [
        "import numpy as np\n",
        "np.cumsum(pca.explained_variance_ratio_)"
      ],
      "metadata": {
        "colab": {
          "base_uri": "https://localhost:8080/"
        },
        "id": "v3hTfZ1yPEvM",
        "outputId": "4fa4be49-e5fe-428a-ae6d-99d9b8758433"
      },
      "execution_count": 16,
      "outputs": [
        {
          "output_type": "execute_result",
          "data": {
            "text/plain": [
              "array([0.31118857, 0.58654045, 0.80888437, 0.91977121, 0.96769753,\n",
              "       0.98553175, 0.99175209, 0.99633299, 0.99884489, 0.99999221,\n",
              "       0.99999749, 0.99999933, 0.99999971, 1.        ])"
            ]
          },
          "metadata": {},
          "execution_count": 16
        }
      ]
    },
    {
      "cell_type": "code",
      "source": [
        "import matplotlib.pyplot as plt\n",
        "plt.plot(np.cumsum(pca.explained_variance_ratio_))"
      ],
      "metadata": {
        "colab": {
          "base_uri": "https://localhost:8080/",
          "height": 447
        },
        "id": "LKG7RJm-Pdzb",
        "outputId": "42696f48-b6b0-4983-8fe4-1585f62555d4"
      },
      "execution_count": 17,
      "outputs": [
        {
          "output_type": "execute_result",
          "data": {
            "text/plain": [
              "[<matplotlib.lines.Line2D at 0x7b3da9b074c0>]"
            ]
          },
          "metadata": {},
          "execution_count": 17
        },
        {
          "output_type": "display_data",
          "data": {
            "text/plain": [
              "<Figure size 640x480 with 1 Axes>"
            ],
            "image/png": "[encoded data removed]"
          },
          "metadata": {}
        }
      ]
    },
    {
      "cell_type": "code",
      "source": [
        "pca = PCA(n_components=9)"
      ],
      "metadata": {
        "id": "YJmZlKK9QWak"
      },
      "execution_count": 18,
      "outputs": []
    },
    {
      "cell_type": "code",
      "source": [
        "X_train_new = pca.fit_transform(X_train_trf)\n",
        "X_test_new = pca.transform(X_test_trf)"
      ],
      "metadata": {
        "id": "Nz1T06B_QOuT"
      },
      "execution_count": 19,
      "outputs": []
    },
    {
      "cell_type": "code",
      "source": [
        "X_train_new.shape"
      ],
      "metadata": {
        "colab": {
          "base_uri": "https://localhost:8080/"
        },
        "id": "7BvVQsXBT2sJ",
        "outputId": "15291fc7-78be-46f5-83d9-4e56d58f937c"
      },
      "execution_count": 20,
      "outputs": [
        {
          "output_type": "execute_result",
          "data": {
            "text/plain": [
              "(11984, 9)"
            ]
          },
          "metadata": {},
          "execution_count": 20
        }
      ]
    },
    {
      "cell_type": "code",
      "source": [
        "y_train.shape"
      ],
      "metadata": {
        "colab": {
          "base_uri": "https://localhost:8080/"
        },
        "id": "cEoxJqmKT6xK",
        "outputId": "9c27ef0f-0c58-4680-8e99-338e3ffb4a45"
      },
      "execution_count": 21,
      "outputs": [
        {
          "output_type": "execute_result",
          "data": {
            "text/plain": [
              "(11984, 1)"
            ]
          },
          "metadata": {},
          "execution_count": 21
        }
      ]
    },
    {
      "cell_type": "code",
      "source": [
        "X_test_new.shape"
      ],
      "metadata": {
        "colab": {
          "base_uri": "https://localhost:8080/"
        },
        "id": "SJXL0FdlYBrQ",
        "outputId": "4f7aa52b-cf20-47b8-a6da-6d4219420ee0"
      },
      "execution_count": 22,
      "outputs": [
        {
          "output_type": "execute_result",
          "data": {
            "text/plain": [
              "(2996, 9)"
            ]
          },
          "metadata": {},
          "execution_count": 22
        }
      ]
    },
    {
      "cell_type": "code",
      "source": [
        "y_test.shape"
      ],
      "metadata": {
        "colab": {
          "base_uri": "https://localhost:8080/"
        },
        "id": "zRbS_yKoYHhv",
        "outputId": "b3b3505f-3dad-4d6f-dfd1-51c7fe807c08"
      },
      "execution_count": 23,
      "outputs": [
        {
          "output_type": "execute_result",
          "data": {
            "text/plain": [
              "(2996, 1)"
            ]
          },
          "metadata": {},
          "execution_count": 23
        }
      ]
    },
    {
      "cell_type": "code",
      "source": [
        "y_train_new = np.array([int(x) for x in y_train.values.ravel()])\n",
        "y_train_new"
      ],
      "metadata": {
        "colab": {
          "base_uri": "https://localhost:8080/"
        },
        "id": "JQM-cbige9Z5",
        "outputId": "01202db4-f217-40ba-c580-d55a82c0caba"
      },
      "execution_count": 24,
      "outputs": [
        {
          "output_type": "execute_result",
          "data": {
            "text/plain": [
              "array([1, 0, 0, ..., 1, 1, 1])"
            ]
          },
          "metadata": {},
          "execution_count": 24
        }
      ]
    },
    {
      "cell_type": "code",
      "source": [
        "y_test_new = np.array([int(x) for x in y_test.values.ravel()])\n",
        "y_test_new"
      ],
      "metadata": {
        "colab": {
          "base_uri": "https://localhost:8080/"
        },
        "id": "jwhPdfMQfDUY",
        "outputId": "d448ab99-ef67-4cdc-92e3-d22f9d0e3a07"
      },
      "execution_count": 25,
      "outputs": [
        {
          "output_type": "execute_result",
          "data": {
            "text/plain": [
              "array([1, 0, 0, ..., 0, 1, 0])"
            ]
          },
          "metadata": {},
          "execution_count": 25
        }
      ]
    },
    {
      "cell_type": "code",
      "source": [
        "len(model_scores)"
      ],
      "metadata": {
        "colab": {
          "base_uri": "https://localhost:8080/"
        },
        "id": "_EIsPWP7hrG4",
        "outputId": "d62f94bc-b86b-457d-c7f9-aafb604ae7be"
      },
      "execution_count": 26,
      "outputs": [
        {
          "output_type": "execute_result",
          "data": {
            "text/plain": [
              "0"
            ]
          },
          "metadata": {},
          "execution_count": 26
        }
      ]
    },
    {
      "cell_type": "markdown",
      "metadata": {
        "id": "tOVKmTlm975G"
      },
      "source": [
        "## Training on SVM"
      ]
    },
    {
      "cell_type": "code",
      "execution_count": 85,
      "metadata": {
        "colab": {
          "base_uri": "https://localhost:8080/",
          "height": 74
        },
        "id": "paKVcOIqpe6R",
        "outputId": "43c1628a-8d8f-4036-b428-21763284f41d"
      },
      "outputs": [
        {
          "output_type": "execute_result",
          "data": {
            "text/plain": [
              "SVC(random_state=0)"
            ],
            "text/html": [
              "<style>#sk-container-id-10 {color: black;background-color: white;}#sk-container-id-10 pre{padding: 0;}#sk-container-id-10 div.sk-toggleable {background-color: white;}#sk-container-id-10 label.sk-toggleable__label {cursor: pointer;display: block;width: 100%;margin-bottom: 0;padding: 0.3em;box-sizing: border-box;text-align: center;}#sk-container-id-10 label.sk-toggleable__label-arrow:before {content: \"▸\";float: left;margin-right: 0.25em;color: #696969;}#sk-container-id-10 label.sk-toggleable__label-arrow:hover:before {color: black;}#sk-container-id-10 div.sk-estimator:hover label.sk-toggleable__label-arrow:before {color: black;}#sk-container-id-10 div.sk-toggleable__content {max-height: 0;max-width: 0;overflow: hidden;text-align: left;background-color: #f0f8ff;}#sk-container-id-10 div.sk-toggleable__content pre {margin: 0.2em;color: black;border-radius: 0.25em;background-color: #f0f8ff;}#sk-container-id-10 input.sk-toggleable__control:checked~div.sk-toggleable__content {max-height: 200px;max-width: 100%;overflow: auto;}#sk-container-id-10 input.sk-toggleable__control:checked~label.sk-toggleable__label-arrow:before {content: \"▾\";}#sk-container-id-10 div.sk-estimator input.sk-toggleable__control:checked~label.sk-toggleable__label {background-color: #d4ebff;}#sk-container-id-10 div.sk-label input.sk-toggleable__control:checked~label.sk-toggleable__label {background-color: #d4ebff;}#sk-container-id-10 input.sk-hidden--visually {border: 0;clip: rect(1px 1px 1px 1px);clip: rect(1px, 1px, 1px, 1px);height: 1px;margin: -1px;overflow: hidden;padding: 0;position: absolute;width: 1px;}#sk-container-id-10 div.sk-estimator {font-family: monospace;background-color: #f0f8ff;border: 1px dotted black;border-radius: 0.25em;box-sizing: border-box;margin-bottom: 0.5em;}#sk-container-id-10 div.sk-estimator:hover {background-color: #d4ebff;}#sk-container-id-10 div.sk-parallel-item::after {content: \"\";width: 100%;border-bottom: 1px solid gray;flex-grow: 1;}#sk-container-id-10 div.sk-label:hover label.sk-toggleable__label {background-color: #d4ebff;}#sk-container-id-10 div.sk-serial::before {content: \"\";position: absolute;border-left: 1px solid gray;box-sizing: border-box;top: 0;bottom: 0;left: 50%;z-index: 0;}#sk-container-id-10 div.sk-serial {display: flex;flex-direction: column;align-items: center;background-color: white;padding-right: 0.2em;padding-left: 0.2em;position: relative;}#sk-container-id-10 div.sk-item {position: relative;z-index: 1;}#sk-container-id-10 div.sk-parallel {display: flex;align-items: stretch;justify-content: center;background-color: white;position: relative;}#sk-container-id-10 div.sk-item::before, #sk-container-id-10 div.sk-parallel-item::before {content: \"\";position: absolute;border-left: 1px solid gray;box-sizing: border-box;top: 0;bottom: 0;left: 50%;z-index: -1;}#sk-container-id-10 div.sk-parallel-item {display: flex;flex-direction: column;z-index: 1;position: relative;background-color: white;}#sk-container-id-10 div.sk-parallel-item:first-child::after {align-self: flex-end;width: 50%;}#sk-container-id-10 div.sk-parallel-item:last-child::after {align-self: flex-start;width: 50%;}#sk-container-id-10 div.sk-parallel-item:only-child::after {width: 0;}#sk-container-id-10 div.sk-dashed-wrapped {border: 1px dashed gray;margin: 0 0.4em 0.5em 0.4em;box-sizing: border-box;padding-bottom: 0.4em;background-color: white;}#sk-container-id-10 div.sk-label label {font-family: monospace;font-weight: bold;display: inline-block;line-height: 1.2em;}#sk-container-id-10 div.sk-label-container {text-align: center;}#sk-container-id-10 div.sk-container {/* jupyter's `normalize.less` sets `[hidden] { display: none; }` but bootstrap.min.css set `[hidden] { display: none !important; }` so we also need the `!important` here to be able to override the default hidden behavior on the sphinx rendered scikit-learn.org. See: https://github.com/scikit-learn/scikit-learn/issues/21755 */display: inline-block !important;position: relative;}#sk-container-id-10 div.sk-text-repr-fallback {display: none;}</style><div id=\"sk-container-id-10\" class=\"sk-top-container\"><div class=\"sk-text-repr-fallback\"><pre>SVC(random_state=0)</pre><b>In a Jupyter environment, please rerun this cell to show the HTML representation or trust the notebook. <br />On GitHub, the HTML representation is unable to render, please try loading this page with nbviewer.org.</b></div><div class=\"sk-container\" hidden><div class=\"sk-item\"><div class=\"sk-estimator sk-toggleable\"><input class=\"sk-toggleable__control sk-hidden--visually\" id=\"sk-estimator-id-10\" type=\"checkbox\" checked><label for=\"sk-estimator-id-10\" class=\"sk-toggleable__label sk-toggleable__label-arrow\">SVC</label><div class=\"sk-toggleable__content\"><pre>SVC(random_state=0)</pre></div></div></div></div></div>"
            ]
          },
          "metadata": {},
          "execution_count": 85
        }
      ],
      "source": [
        "from sklearn.svm import SVC\n",
        "clf = SVC(kernel = 'rbf', random_state = 0)\n",
        "clf.fit(X_train_new, y_train_new)"
      ]
    },
    {
      "cell_type": "code",
      "execution_count": 86,
      "metadata": {
        "id": "cFTjEv8wpezm"
      },
      "outputs": [],
      "source": [
        "predicted = clf.predict(X_test_new)"
      ]
    },
    {
      "cell_type": "code",
      "source": [
        "predicted"
      ],
      "metadata": {
        "colab": {
          "base_uri": "https://localhost:8080/"
        },
        "id": "Dy8lWUV5BmPK",
        "outputId": "0949d3d5-439d-46af-b74b-34ea771b4d47"
      },
      "execution_count": 87,
      "outputs": [
        {
          "output_type": "execute_result",
          "data": {
            "text/plain": [
              "array([1, 0, 0, ..., 0, 0, 0])"
            ]
          },
          "metadata": {},
          "execution_count": 87
        }
      ]
    },
    {
      "cell_type": "markdown",
      "metadata": {
        "id": "fA32BmL1VHdS"
      },
      "source": [
        "### Performance"
      ]
    },
    {
      "cell_type": "code",
      "execution_count": 88,
      "metadata": {
        "colab": {
          "base_uri": "https://localhost:8080/"
        },
        "id": "gaISrM048y2n",
        "outputId": "99d76e0f-e495-480f-bf22-98b449354f40"
      },
      "outputs": [
        {
          "output_type": "stream",
          "name": "stdout",
          "text": [
            "Accuracy = 0.6151535380507344\n",
            "Precision = 0.7131011608623549\n",
            "Recall = 0.3049645390070922\n",
            "F1 Score = 0.42722305017386986\n"
          ]
        }
      ],
      "source": [
        "from sklearn import metrics\n",
        "print(\"Accuracy = {}\\nPrecision = {}\\nRecall = {}\\nF1 Score = {}\".format(metrics.accuracy_score(y_test_new, predicted), metrics.precision_score(y_test_new, predicted),metrics.recall_score(y_test_new, predicted),metrics.f1_score(y_test_new, predicted)))\n",
        "\n",
        "model_scores.append([metrics.accuracy_score(y_test_new, predicted), metrics.precision_score(y_test_new, predicted),metrics.recall_score(y_test_new, predicted),metrics.f1_score(y_test_new, predicted)])\n"
      ]
    },
    {
      "cell_type": "markdown",
      "metadata": {
        "id": "aDvHS8kU-JUh"
      },
      "source": [
        "## Training on Logistic Regression"
      ]
    },
    {
      "cell_type": "code",
      "execution_count": 31,
      "metadata": {
        "id": "pc4_RzElmvdZ"
      },
      "outputs": [],
      "source": [
        "from sklearn.linear_model import LogisticRegression"
      ]
    },
    {
      "cell_type": "code",
      "execution_count": 32,
      "metadata": {
        "colab": {
          "base_uri": "https://localhost:8080/",
          "height": 74
        },
        "id": "ckjIJXyF-ccn",
        "outputId": "f18d9644-465d-4420-824e-9535879cabb6"
      },
      "outputs": [
        {
          "output_type": "execute_result",
          "data": {
            "text/plain": [
              "LogisticRegression()"
            ],
            "text/html": [
              "<style>#sk-container-id-2 {color: black;background-color: white;}#sk-container-id-2 pre{padding: 0;}#sk-container-id-2 div.sk-toggleable {background-color: white;}#sk-container-id-2 label.sk-toggleable__label {cursor: pointer;display: block;width: 100%;margin-bottom: 0;padding: 0.3em;box-sizing: border-box;text-align: center;}#sk-container-id-2 label.sk-toggleable__label-arrow:before {content: \"▸\";float: left;margin-right: 0.25em;color: #696969;}#sk-container-id-2 label.sk-toggleable__label-arrow:hover:before {color: black;}#sk-container-id-2 div.sk-estimator:hover label.sk-toggleable__label-arrow:before {color: black;}#sk-container-id-2 div.sk-toggleable__content {max-height: 0;max-width: 0;overflow: hidden;text-align: left;background-color: #f0f8ff;}#sk-container-id-2 div.sk-toggleable__content pre {margin: 0.2em;color: black;border-radius: 0.25em;background-color: #f0f8ff;}#sk-container-id-2 input.sk-toggleable__control:checked~div.sk-toggleable__content {max-height: 200px;max-width: 100%;overflow: auto;}#sk-container-id-2 input.sk-toggleable__control:checked~label.sk-toggleable__label-arrow:before {content: \"▾\";}#sk-container-id-2 div.sk-estimator input.sk-toggleable__control:checked~label.sk-toggleable__label {background-color: #d4ebff;}#sk-container-id-2 div.sk-label input.sk-toggleable__control:checked~label.sk-toggleable__label {background-color: #d4ebff;}#sk-container-id-2 input.sk-hidden--visually {border: 0;clip: rect(1px 1px 1px 1px);clip: rect(1px, 1px, 1px, 1px);height: 1px;margin: -1px;overflow: hidden;padding: 0;position: absolute;width: 1px;}#sk-container-id-2 div.sk-estimator {font-family: monospace;background-color: #f0f8ff;border: 1px dotted black;border-radius: 0.25em;box-sizing: border-box;margin-bottom: 0.5em;}#sk-container-id-2 div.sk-estimator:hover {background-color: #d4ebff;}#sk-container-id-2 div.sk-parallel-item::after {content: \"\";width: 100%;border-bottom: 1px solid gray;flex-grow: 1;}#sk-container-id-2 div.sk-label:hover label.sk-toggleable__label {background-color: #d4ebff;}#sk-container-id-2 div.sk-serial::before {content: \"\";position: absolute;border-left: 1px solid gray;box-sizing: border-box;top: 0;bottom: 0;left: 50%;z-index: 0;}#sk-container-id-2 div.sk-serial {display: flex;flex-direction: column;align-items: center;background-color: white;padding-right: 0.2em;padding-left: 0.2em;position: relative;}#sk-container-id-2 div.sk-item {position: relative;z-index: 1;}#sk-container-id-2 div.sk-parallel {display: flex;align-items: stretch;justify-content: center;background-color: white;position: relative;}#sk-container-id-2 div.sk-item::before, #sk-container-id-2 div.sk-parallel-item::before {content: \"\";position: absolute;border-left: 1px solid gray;box-sizing: border-box;top: 0;bottom: 0;left: 50%;z-index: -1;}#sk-container-id-2 div.sk-parallel-item {display: flex;flex-direction: column;z-index: 1;position: relative;background-color: white;}#sk-container-id-2 div.sk-parallel-item:first-child::after {align-self: flex-end;width: 50%;}#sk-container-id-2 div.sk-parallel-item:last-child::after {align-self: flex-start;width: 50%;}#sk-container-id-2 div.sk-parallel-item:only-child::after {width: 0;}#sk-container-id-2 div.sk-dashed-wrapped {border: 1px dashed gray;margin: 0 0.4em 0.5em 0.4em;box-sizing: border-box;padding-bottom: 0.4em;background-color: white;}#sk-container-id-2 div.sk-label label {font-family: monospace;font-weight: bold;display: inline-block;line-height: 1.2em;}#sk-container-id-2 div.sk-label-container {text-align: center;}#sk-container-id-2 div.sk-container {/* jupyter's `normalize.less` sets `[hidden] { display: none; }` but bootstrap.min.css set `[hidden] { display: none !important; }` so we also need the `!important` here to be able to override the default hidden behavior on the sphinx rendered scikit-learn.org. See: https://github.com/scikit-learn/scikit-learn/issues/21755 */display: inline-block !important;position: relative;}#sk-container-id-2 div.sk-text-repr-fallback {display: none;}</style><div id=\"sk-container-id-2\" class=\"sk-top-container\"><div class=\"sk-text-repr-fallback\"><pre>LogisticRegression()</pre><b>In a Jupyter environment, please rerun this cell to show the HTML representation or trust the notebook. <br />On GitHub, the HTML representation is unable to render, please try loading this page with nbviewer.org.</b></div><div class=\"sk-container\" hidden><div class=\"sk-item\"><div class=\"sk-estimator sk-toggleable\"><input class=\"sk-toggleable__control sk-hidden--visually\" id=\"sk-estimator-id-2\" type=\"checkbox\" checked><label for=\"sk-estimator-id-2\" class=\"sk-toggleable__label sk-toggleable__label-arrow\">LogisticRegression</label><div class=\"sk-toggleable__content\"><pre>LogisticRegression()</pre></div></div></div></div></div>"
            ]
          },
          "metadata": {},
          "execution_count": 32
        }
      ],
      "source": [
        "clf_logis = LogisticRegression()\n",
        "clf_logis.fit(X_train_new, y_train_new)"
      ]
    },
    {
      "cell_type": "code",
      "execution_count": 33,
      "metadata": {
        "id": "PGT09n8G_U0e"
      },
      "outputs": [],
      "source": [
        "predict = clf_logis.predict(X_test_new)"
      ]
    },
    {
      "cell_type": "markdown",
      "metadata": {
        "id": "1cch7p1zVPCO"
      },
      "source": [
        "### Performance"
      ]
    },
    {
      "cell_type": "code",
      "execution_count": 34,
      "metadata": {
        "colab": {
          "base_uri": "https://localhost:8080/"
        },
        "id": "Phhv-p2p_VAk",
        "outputId": "1003c73c-92b8-4e43-c340-6d189ddd0b6d"
      },
      "outputs": [
        {
          "output_type": "stream",
          "name": "stdout",
          "text": [
            "Accuracy = 0.5607476635514018\n",
            "Precision = 0.5549065420560748\n",
            "Recall = 0.33687943262411346\n",
            "F1 Score = 0.41924095322153576\n"
          ]
        }
      ],
      "source": [
        "print(\"Accuracy = {}\\nPrecision = {}\\nRecall = {}\\nF1 Score = {}\".format(metrics.accuracy_score(y_test_new, predict), metrics.precision_score(y_test_new, predict),metrics.recall_score(y_test_new, predict),metrics.f1_score(y_test_new, predict)))\n",
        "model_scores.append([metrics.accuracy_score(y_test_new, predict), metrics.precision_score(y_test_new, predict),metrics.recall_score(y_test_new, predict),metrics.f1_score(y_test_new, predict)])"
      ]
    },
    {
      "cell_type": "code",
      "source": [
        "len(model_scores)"
      ],
      "metadata": {
        "colab": {
          "base_uri": "https://localhost:8080/"
        },
        "id": "q-n-W-Lfhp2o",
        "outputId": "cb0839cc-0878-4325-84fb-ea6ae99c4af4"
      },
      "execution_count": 35,
      "outputs": [
        {
          "output_type": "execute_result",
          "data": {
            "text/plain": [
              "2"
            ]
          },
          "metadata": {},
          "execution_count": 35
        }
      ]
    },
    {
      "cell_type": "markdown",
      "metadata": {
        "id": "GnFFg0vtVeCH"
      },
      "source": [
        "## Second Approach Directly use 14 values of EEG data and use it for prediction"
      ]
    },
    {
      "cell_type": "markdown",
      "metadata": {
        "id": "hCJlgBEy58II"
      },
      "source": [
        "## Training on Neural Networks"
      ]
    },
    {
      "cell_type": "markdown",
      "metadata": {
        "id": "MN_--9h56Mi9"
      },
      "source": [
        "### Creating Model"
      ]
    },
    {
      "cell_type": "code",
      "execution_count": 36,
      "metadata": {
        "id": "G8tW2xROi6lz"
      },
      "outputs": [],
      "source": [
        "from keras.models import Sequential\n",
        "from keras.layers import Dense, Dropout"
      ]
    },
    {
      "cell_type": "code",
      "source": [
        "x.shape"
      ],
      "metadata": {
        "colab": {
          "base_uri": "https://localhost:8080/"
        },
        "id": "AyF90BQuRXi_",
        "outputId": "d3080c70-5cff-4013-e371-fb104d343ab4"
      },
      "execution_count": 37,
      "outputs": [
        {
          "output_type": "execute_result",
          "data": {
            "text/plain": [
              "(14980, 14)"
            ]
          },
          "metadata": {},
          "execution_count": 37
        }
      ]
    },
    {
      "cell_type": "code",
      "execution_count": 38,
      "metadata": {
        "colab": {
          "base_uri": "https://localhost:8080/"
        },
        "id": "4AxUgQBli8xN",
        "outputId": "3345d415-fd85-47aa-d836-b55a590bedaf"
      },
      "outputs": [
        {
          "output_type": "stream",
          "name": "stdout",
          "text": [
            "Model: \"sequential\"\n",
            "_________________________________________________________________\n",
            " Layer (type)                Output Shape              Param #   \n",
            "=================================================================\n",
            " dense (Dense)               (None, 512)               5120      \n",
            "                                                                 \n",
            " dense_1 (Dense)             (None, 1)                 513       \n",
            "                                                                 \n",
            "=================================================================\n",
            "Total params: 5633 (22.00 KB)\n",
            "Trainable params: 5633 (22.00 KB)\n",
            "Non-trainable params: 0 (0.00 Byte)\n",
            "_________________________________________________________________\n"
          ]
        }
      ],
      "source": [
        "model = Sequential()\n",
        "model.add(Dense(512, activation = 'relu', input_shape = (X_train_new.shape[1], )))\n",
        "model.add(Dense(1, activation = 'sigmoid'))\n",
        "model.summary()"
      ]
    },
    {
      "cell_type": "code",
      "execution_count": 39,
      "metadata": {
        "colab": {
          "base_uri": "https://localhost:8080/"
        },
        "id": "Lpwu-Tg3jZr2",
        "outputId": "80b69d47-82af-40ff-fd2c-20ffeab40670"
      },
      "outputs": [
        {
          "output_type": "stream",
          "name": "stdout",
          "text": [
            "Model: \"sequential\"\n",
            "_________________________________________________________________\n",
            " Layer (type)                Output Shape              Param #   \n",
            "=================================================================\n",
            " dense (Dense)               (None, 512)               5120      \n",
            "                                                                 \n",
            " dense_1 (Dense)             (None, 1)                 513       \n",
            "                                                                 \n",
            "=================================================================\n",
            "Total params: 5633 (22.00 KB)\n",
            "Trainable params: 5633 (22.00 KB)\n",
            "Non-trainable params: 0 (0.00 Byte)\n",
            "_________________________________________________________________\n"
          ]
        }
      ],
      "source": [
        "model.compile(loss = 'binary_crossentropy', optimizer='adam', metrics=['accuracy'])\n",
        "model.summary()"
      ]
    },
    {
      "cell_type": "markdown",
      "metadata": {
        "id": "N9hvDrSn4y4N"
      },
      "source": [
        "### Training"
      ]
    },
    {
      "cell_type": "code",
      "source": [
        "X_train_new"
      ],
      "metadata": {
        "colab": {
          "base_uri": "https://localhost:8080/"
        },
        "id": "i5f8eOroS2XQ",
        "outputId": "7eb5c621-3999-4741-c5f2-3e429ed62d1a"
      },
      "execution_count": 40,
      "outputs": [
        {
          "output_type": "execute_result",
          "data": {
            "text/plain": [
              "array([[-0.9839272 , -0.15408588,  0.10933962, ..., -0.23558059,\n",
              "        -0.15185134,  0.00552594],\n",
              "       [ 0.02701063,  0.25355098,  0.09169315, ...,  0.07937715,\n",
              "        -0.15818455, -0.11991045],\n",
              "       [-0.09257934, -0.12565428,  0.04498988, ...,  0.01800095,\n",
              "        -0.06470526,  0.06358824],\n",
              "       ...,\n",
              "       [ 0.0189917 ,  0.0635686 , -0.21385088, ..., -0.23506001,\n",
              "         0.41703537,  0.09387348],\n",
              "       [-0.18188258, -0.28500596, -0.08897007, ..., -0.08171022,\n",
              "         0.09719866,  0.02051246],\n",
              "       [-0.3074709 , -0.14590545, -0.11793179, ...,  0.13099581,\n",
              "        -0.30538912, -0.17958112]])"
            ]
          },
          "metadata": {},
          "execution_count": 40
        }
      ]
    },
    {
      "cell_type": "code",
      "source": [
        "y_train.values.ravel()"
      ],
      "metadata": {
        "colab": {
          "base_uri": "https://localhost:8080/"
        },
        "id": "F3A_SZQYS5z2",
        "outputId": "99e017b6-06ec-42ef-9c54-8c4f053ef7ea"
      },
      "execution_count": 41,
      "outputs": [
        {
          "output_type": "execute_result",
          "data": {
            "text/plain": [
              "array(['1', '0', '0', ..., '1', '1', '1'], dtype=object)"
            ]
          },
          "metadata": {},
          "execution_count": 41
        }
      ]
    },
    {
      "cell_type": "code",
      "source": [
        "# y_train_new = np.array([int(x) for x in y_train.values.ravel()])\n",
        "# y_train_new"
      ],
      "metadata": {
        "id": "VMM_asu8Vz8f"
      },
      "execution_count": 42,
      "outputs": []
    },
    {
      "cell_type": "code",
      "execution_count": 43,
      "metadata": {
        "colab": {
          "base_uri": "https://localhost:8080/"
        },
        "id": "vKh20CJrmYV7",
        "outputId": "2ca1a6ae-0b0d-41c6-ea42-950945081a51"
      },
      "outputs": [
        {
          "output_type": "stream",
          "name": "stdout",
          "text": [
            "Epoch 1/100\n",
            "338/338 - 2s - loss: 0.6543 - accuracy: 0.6048 - val_loss: 0.6335 - val_accuracy: 0.6205 - 2s/epoch - 7ms/step\n",
            "Epoch 2/100\n",
            "338/338 - 1s - loss: 0.6206 - accuracy: 0.6345 - val_loss: 0.6190 - val_accuracy: 0.6272 - 977ms/epoch - 3ms/step\n",
            "Epoch 3/100\n",
            "338/338 - 1s - loss: 0.6083 - accuracy: 0.6510 - val_loss: 0.6104 - val_accuracy: 0.6355 - 821ms/epoch - 2ms/step\n",
            "Epoch 4/100\n",
            "338/338 - 1s - loss: 0.5986 - accuracy: 0.6654 - val_loss: 0.6007 - val_accuracy: 0.6589 - 596ms/epoch - 2ms/step\n",
            "Epoch 5/100\n",
            "338/338 - 1s - loss: 0.5872 - accuracy: 0.6713 - val_loss: 0.5943 - val_accuracy: 0.6597 - 621ms/epoch - 2ms/step\n",
            "Epoch 6/100\n",
            "338/338 - 1s - loss: 0.5767 - accuracy: 0.6822 - val_loss: 0.5842 - val_accuracy: 0.6731 - 704ms/epoch - 2ms/step\n",
            "Epoch 7/100\n",
            "338/338 - 1s - loss: 0.5686 - accuracy: 0.6910 - val_loss: 0.5774 - val_accuracy: 0.6897 - 623ms/epoch - 2ms/step\n",
            "Epoch 8/100\n",
            "338/338 - 1s - loss: 0.5612 - accuracy: 0.6983 - val_loss: 0.5786 - val_accuracy: 0.6847 - 628ms/epoch - 2ms/step\n",
            "Epoch 9/100\n",
            "338/338 - 1s - loss: 0.5514 - accuracy: 0.7096 - val_loss: 0.5699 - val_accuracy: 0.6989 - 589ms/epoch - 2ms/step\n",
            "Epoch 10/100\n",
            "338/338 - 1s - loss: 0.5448 - accuracy: 0.7182 - val_loss: 0.5597 - val_accuracy: 0.7039 - 594ms/epoch - 2ms/step\n",
            "Epoch 11/100\n",
            "338/338 - 1s - loss: 0.5381 - accuracy: 0.7216 - val_loss: 0.5525 - val_accuracy: 0.7189 - 615ms/epoch - 2ms/step\n",
            "Epoch 12/100\n",
            "338/338 - 1s - loss: 0.5348 - accuracy: 0.7328 - val_loss: 0.5500 - val_accuracy: 0.7231 - 623ms/epoch - 2ms/step\n",
            "Epoch 13/100\n",
            "338/338 - 1s - loss: 0.5263 - accuracy: 0.7342 - val_loss: 0.5452 - val_accuracy: 0.7206 - 616ms/epoch - 2ms/step\n",
            "Epoch 14/100\n",
            "338/338 - 1s - loss: 0.5220 - accuracy: 0.7357 - val_loss: 0.5401 - val_accuracy: 0.7164 - 643ms/epoch - 2ms/step\n",
            "Epoch 15/100\n",
            "338/338 - 1s - loss: 0.5162 - accuracy: 0.7421 - val_loss: 0.5314 - val_accuracy: 0.7314 - 650ms/epoch - 2ms/step\n",
            "Epoch 16/100\n",
            "338/338 - 1s - loss: 0.5094 - accuracy: 0.7466 - val_loss: 0.5404 - val_accuracy: 0.7148 - 666ms/epoch - 2ms/step\n",
            "Epoch 17/100\n",
            "338/338 - 1s - loss: 0.5042 - accuracy: 0.7502 - val_loss: 0.5315 - val_accuracy: 0.7206 - 666ms/epoch - 2ms/step\n",
            "Epoch 18/100\n",
            "338/338 - 1s - loss: 0.5002 - accuracy: 0.7570 - val_loss: 0.5210 - val_accuracy: 0.7298 - 618ms/epoch - 2ms/step\n",
            "Epoch 19/100\n",
            "338/338 - 1s - loss: 0.4942 - accuracy: 0.7558 - val_loss: 0.5129 - val_accuracy: 0.7381 - 800ms/epoch - 2ms/step\n",
            "Epoch 20/100\n",
            "338/338 - 1s - loss: 0.4883 - accuracy: 0.7596 - val_loss: 0.5123 - val_accuracy: 0.7440 - 906ms/epoch - 3ms/step\n",
            "Epoch 21/100\n",
            "338/338 - 1s - loss: 0.4847 - accuracy: 0.7638 - val_loss: 0.5091 - val_accuracy: 0.7398 - 845ms/epoch - 3ms/step\n",
            "Epoch 22/100\n",
            "338/338 - 1s - loss: 0.4793 - accuracy: 0.7630 - val_loss: 0.4999 - val_accuracy: 0.7490 - 934ms/epoch - 3ms/step\n",
            "Epoch 23/100\n",
            "338/338 - 1s - loss: 0.4746 - accuracy: 0.7676 - val_loss: 0.4994 - val_accuracy: 0.7456 - 953ms/epoch - 3ms/step\n",
            "Epoch 24/100\n",
            "338/338 - 1s - loss: 0.4692 - accuracy: 0.7734 - val_loss: 0.5003 - val_accuracy: 0.7448 - 702ms/epoch - 2ms/step\n",
            "Epoch 25/100\n",
            "338/338 - 1s - loss: 0.4660 - accuracy: 0.7715 - val_loss: 0.4931 - val_accuracy: 0.7531 - 603ms/epoch - 2ms/step\n",
            "Epoch 26/100\n",
            "338/338 - 1s - loss: 0.4629 - accuracy: 0.7765 - val_loss: 0.4976 - val_accuracy: 0.7498 - 599ms/epoch - 2ms/step\n",
            "Epoch 27/100\n",
            "338/338 - 1s - loss: 0.4577 - accuracy: 0.7784 - val_loss: 0.4967 - val_accuracy: 0.7540 - 625ms/epoch - 2ms/step\n",
            "Epoch 28/100\n",
            "338/338 - 1s - loss: 0.4561 - accuracy: 0.7786 - val_loss: 0.4805 - val_accuracy: 0.7515 - 626ms/epoch - 2ms/step\n",
            "Epoch 29/100\n",
            "338/338 - 1s - loss: 0.4512 - accuracy: 0.7797 - val_loss: 0.4810 - val_accuracy: 0.7581 - 657ms/epoch - 2ms/step\n",
            "Epoch 30/100\n",
            "338/338 - 1s - loss: 0.4473 - accuracy: 0.7841 - val_loss: 0.4773 - val_accuracy: 0.7648 - 621ms/epoch - 2ms/step\n",
            "Epoch 31/100\n",
            "338/338 - 1s - loss: 0.4451 - accuracy: 0.7867 - val_loss: 0.4790 - val_accuracy: 0.7640 - 611ms/epoch - 2ms/step\n",
            "Epoch 32/100\n",
            "338/338 - 1s - loss: 0.4439 - accuracy: 0.7897 - val_loss: 0.4752 - val_accuracy: 0.7515 - 647ms/epoch - 2ms/step\n",
            "Epoch 33/100\n",
            "338/338 - 1s - loss: 0.4381 - accuracy: 0.7932 - val_loss: 0.4701 - val_accuracy: 0.7656 - 608ms/epoch - 2ms/step\n",
            "Epoch 34/100\n",
            "338/338 - 1s - loss: 0.4369 - accuracy: 0.7911 - val_loss: 0.4728 - val_accuracy: 0.7706 - 639ms/epoch - 2ms/step\n",
            "Epoch 35/100\n",
            "338/338 - 1s - loss: 0.4407 - accuracy: 0.7894 - val_loss: 0.4638 - val_accuracy: 0.7723 - 643ms/epoch - 2ms/step\n",
            "Epoch 36/100\n",
            "338/338 - 1s - loss: 0.4347 - accuracy: 0.7922 - val_loss: 0.4656 - val_accuracy: 0.7698 - 595ms/epoch - 2ms/step\n",
            "Epoch 37/100\n",
            "338/338 - 1s - loss: 0.4302 - accuracy: 0.7955 - val_loss: 0.4637 - val_accuracy: 0.7706 - 647ms/epoch - 2ms/step\n",
            "Epoch 38/100\n",
            "338/338 - 1s - loss: 0.4276 - accuracy: 0.7974 - val_loss: 0.4611 - val_accuracy: 0.7723 - 658ms/epoch - 2ms/step\n",
            "Epoch 39/100\n",
            "338/338 - 1s - loss: 0.4277 - accuracy: 0.7985 - val_loss: 0.4670 - val_accuracy: 0.7590 - 620ms/epoch - 2ms/step\n",
            "Epoch 40/100\n",
            "338/338 - 1s - loss: 0.4231 - accuracy: 0.8008 - val_loss: 0.4545 - val_accuracy: 0.7798 - 880ms/epoch - 3ms/step\n",
            "Epoch 41/100\n",
            "338/338 - 1s - loss: 0.4192 - accuracy: 0.8048 - val_loss: 0.4515 - val_accuracy: 0.7773 - 980ms/epoch - 3ms/step\n",
            "Epoch 42/100\n",
            "338/338 - 1s - loss: 0.4208 - accuracy: 0.8040 - val_loss: 0.4502 - val_accuracy: 0.7840 - 935ms/epoch - 3ms/step\n",
            "Epoch 43/100\n",
            "338/338 - 1s - loss: 0.4152 - accuracy: 0.8041 - val_loss: 0.4539 - val_accuracy: 0.7756 - 851ms/epoch - 3ms/step\n",
            "Epoch 44/100\n",
            "338/338 - 1s - loss: 0.4164 - accuracy: 0.8045 - val_loss: 0.4503 - val_accuracy: 0.7857 - 922ms/epoch - 3ms/step\n",
            "Epoch 45/100\n",
            "338/338 - 1s - loss: 0.4134 - accuracy: 0.8053 - val_loss: 0.4407 - val_accuracy: 0.7898 - 603ms/epoch - 2ms/step\n",
            "Epoch 46/100\n",
            "338/338 - 1s - loss: 0.4141 - accuracy: 0.7997 - val_loss: 0.4526 - val_accuracy: 0.7840 - 622ms/epoch - 2ms/step\n",
            "Epoch 47/100\n",
            "338/338 - 1s - loss: 0.4108 - accuracy: 0.8069 - val_loss: 0.4416 - val_accuracy: 0.7882 - 642ms/epoch - 2ms/step\n",
            "Epoch 48/100\n",
            "338/338 - 1s - loss: 0.4064 - accuracy: 0.8102 - val_loss: 0.4563 - val_accuracy: 0.7731 - 657ms/epoch - 2ms/step\n",
            "Epoch 49/100\n",
            "338/338 - 1s - loss: 0.4084 - accuracy: 0.8078 - val_loss: 0.4367 - val_accuracy: 0.7898 - 628ms/epoch - 2ms/step\n",
            "Epoch 50/100\n",
            "338/338 - 1s - loss: 0.4051 - accuracy: 0.8113 - val_loss: 0.4428 - val_accuracy: 0.7915 - 637ms/epoch - 2ms/step\n",
            "Epoch 51/100\n",
            "338/338 - 1s - loss: 0.4016 - accuracy: 0.8139 - val_loss: 0.4386 - val_accuracy: 0.7807 - 645ms/epoch - 2ms/step\n",
            "Epoch 52/100\n",
            "338/338 - 1s - loss: 0.4016 - accuracy: 0.8108 - val_loss: 0.4461 - val_accuracy: 0.7865 - 636ms/epoch - 2ms/step\n",
            "Epoch 53/100\n",
            "338/338 - 1s - loss: 0.3975 - accuracy: 0.8182 - val_loss: 0.4293 - val_accuracy: 0.7940 - 598ms/epoch - 2ms/step\n",
            "Epoch 54/100\n",
            "338/338 - 1s - loss: 0.3955 - accuracy: 0.8163 - val_loss: 0.4428 - val_accuracy: 0.7823 - 620ms/epoch - 2ms/step\n",
            "Epoch 55/100\n",
            "338/338 - 1s - loss: 0.3966 - accuracy: 0.8147 - val_loss: 0.4336 - val_accuracy: 0.7907 - 684ms/epoch - 2ms/step\n",
            "Epoch 56/100\n",
            "338/338 - 1s - loss: 0.3929 - accuracy: 0.8166 - val_loss: 0.4272 - val_accuracy: 0.7973 - 642ms/epoch - 2ms/step\n",
            "Epoch 57/100\n",
            "338/338 - 1s - loss: 0.3941 - accuracy: 0.8153 - val_loss: 0.4265 - val_accuracy: 0.7915 - 628ms/epoch - 2ms/step\n",
            "Epoch 58/100\n",
            "338/338 - 1s - loss: 0.3906 - accuracy: 0.8173 - val_loss: 0.4383 - val_accuracy: 0.7923 - 633ms/epoch - 2ms/step\n",
            "Epoch 59/100\n",
            "338/338 - 1s - loss: 0.3884 - accuracy: 0.8225 - val_loss: 0.4250 - val_accuracy: 0.8015 - 632ms/epoch - 2ms/step\n",
            "Epoch 60/100\n",
            "338/338 - 1s - loss: 0.3881 - accuracy: 0.8208 - val_loss: 0.4252 - val_accuracy: 0.7957 - 808ms/epoch - 2ms/step\n",
            "Epoch 61/100\n",
            "338/338 - 1s - loss: 0.3860 - accuracy: 0.8210 - val_loss: 0.4375 - val_accuracy: 0.7840 - 926ms/epoch - 3ms/step\n",
            "Epoch 62/100\n",
            "338/338 - 1s - loss: 0.3888 - accuracy: 0.8197 - val_loss: 0.4286 - val_accuracy: 0.7882 - 919ms/epoch - 3ms/step\n",
            "Epoch 63/100\n",
            "338/338 - 1s - loss: 0.3838 - accuracy: 0.8223 - val_loss: 0.4224 - val_accuracy: 0.8032 - 901ms/epoch - 3ms/step\n",
            "Epoch 64/100\n",
            "338/338 - 1s - loss: 0.3831 - accuracy: 0.8244 - val_loss: 0.4176 - val_accuracy: 0.7990 - 988ms/epoch - 3ms/step\n",
            "Epoch 65/100\n",
            "338/338 - 1s - loss: 0.3799 - accuracy: 0.8266 - val_loss: 0.4267 - val_accuracy: 0.7948 - 713ms/epoch - 2ms/step\n",
            "Epoch 66/100\n",
            "338/338 - 1s - loss: 0.3802 - accuracy: 0.8252 - val_loss: 0.4202 - val_accuracy: 0.8007 - 607ms/epoch - 2ms/step\n",
            "Epoch 67/100\n",
            "338/338 - 1s - loss: 0.3765 - accuracy: 0.8280 - val_loss: 0.4199 - val_accuracy: 0.8065 - 603ms/epoch - 2ms/step\n",
            "Epoch 68/100\n",
            "338/338 - 1s - loss: 0.3742 - accuracy: 0.8261 - val_loss: 0.4263 - val_accuracy: 0.8032 - 621ms/epoch - 2ms/step\n",
            "Epoch 69/100\n",
            "338/338 - 1s - loss: 0.3744 - accuracy: 0.8274 - val_loss: 0.4157 - val_accuracy: 0.8032 - 608ms/epoch - 2ms/step\n",
            "Epoch 70/100\n",
            "338/338 - 1s - loss: 0.3755 - accuracy: 0.8274 - val_loss: 0.4194 - val_accuracy: 0.8007 - 667ms/epoch - 2ms/step\n",
            "Epoch 71/100\n",
            "338/338 - 1s - loss: 0.3712 - accuracy: 0.8303 - val_loss: 0.4176 - val_accuracy: 0.8032 - 635ms/epoch - 2ms/step\n",
            "Epoch 72/100\n",
            "338/338 - 1s - loss: 0.3702 - accuracy: 0.8309 - val_loss: 0.4170 - val_accuracy: 0.8040 - 650ms/epoch - 2ms/step\n",
            "Epoch 73/100\n",
            "338/338 - 1s - loss: 0.3707 - accuracy: 0.8303 - val_loss: 0.4059 - val_accuracy: 0.8098 - 642ms/epoch - 2ms/step\n",
            "Epoch 74/100\n",
            "338/338 - 1s - loss: 0.3683 - accuracy: 0.8315 - val_loss: 0.4116 - val_accuracy: 0.8065 - 648ms/epoch - 2ms/step\n",
            "Epoch 75/100\n",
            "338/338 - 1s - loss: 0.3675 - accuracy: 0.8309 - val_loss: 0.4156 - val_accuracy: 0.8115 - 603ms/epoch - 2ms/step\n",
            "Epoch 76/100\n",
            "338/338 - 1s - loss: 0.3663 - accuracy: 0.8319 - val_loss: 0.4147 - val_accuracy: 0.8073 - 624ms/epoch - 2ms/step\n",
            "Epoch 77/100\n",
            "338/338 - 1s - loss: 0.3659 - accuracy: 0.8328 - val_loss: 0.4394 - val_accuracy: 0.7848 - 610ms/epoch - 2ms/step\n",
            "Epoch 78/100\n",
            "338/338 - 1s - loss: 0.3639 - accuracy: 0.8318 - val_loss: 0.4094 - val_accuracy: 0.8090 - 630ms/epoch - 2ms/step\n",
            "Epoch 79/100\n",
            "338/338 - 1s - loss: 0.3621 - accuracy: 0.8350 - val_loss: 0.4112 - val_accuracy: 0.8107 - 620ms/epoch - 2ms/step\n",
            "Epoch 80/100\n",
            "338/338 - 1s - loss: 0.3614 - accuracy: 0.8359 - val_loss: 0.4008 - val_accuracy: 0.8190 - 639ms/epoch - 2ms/step\n",
            "Epoch 81/100\n",
            "338/338 - 1s - loss: 0.3610 - accuracy: 0.8371 - val_loss: 0.4095 - val_accuracy: 0.8098 - 1s/epoch - 3ms/step\n",
            "Epoch 82/100\n",
            "338/338 - 1s - loss: 0.3574 - accuracy: 0.8391 - val_loss: 0.4132 - val_accuracy: 0.8057 - 1s/epoch - 3ms/step\n",
            "Epoch 83/100\n",
            "338/338 - 1s - loss: 0.3583 - accuracy: 0.8349 - val_loss: 0.4053 - val_accuracy: 0.8148 - 947ms/epoch - 3ms/step\n",
            "Epoch 84/100\n",
            "338/338 - 1s - loss: 0.3566 - accuracy: 0.8368 - val_loss: 0.4152 - val_accuracy: 0.8082 - 969ms/epoch - 3ms/step\n",
            "Epoch 85/100\n",
            "338/338 - 1s - loss: 0.3543 - accuracy: 0.8390 - val_loss: 0.4268 - val_accuracy: 0.7957 - 704ms/epoch - 2ms/step\n",
            "Epoch 86/100\n",
            "338/338 - 1s - loss: 0.3553 - accuracy: 0.8396 - val_loss: 0.4054 - val_accuracy: 0.8157 - 619ms/epoch - 2ms/step\n",
            "Epoch 87/100\n",
            "338/338 - 1s - loss: 0.3544 - accuracy: 0.8388 - val_loss: 0.4119 - val_accuracy: 0.8132 - 611ms/epoch - 2ms/step\n",
            "Epoch 88/100\n",
            "338/338 - 1s - loss: 0.3512 - accuracy: 0.8416 - val_loss: 0.4103 - val_accuracy: 0.8073 - 620ms/epoch - 2ms/step\n",
            "Epoch 89/100\n",
            "338/338 - 1s - loss: 0.3566 - accuracy: 0.8382 - val_loss: 0.4133 - val_accuracy: 0.8115 - 623ms/epoch - 2ms/step\n",
            "Epoch 90/100\n",
            "338/338 - 1s - loss: 0.3516 - accuracy: 0.8384 - val_loss: 0.4070 - val_accuracy: 0.8207 - 628ms/epoch - 2ms/step\n",
            "Epoch 91/100\n",
            "338/338 - 1s - loss: 0.3486 - accuracy: 0.8445 - val_loss: 0.4027 - val_accuracy: 0.8132 - 607ms/epoch - 2ms/step\n",
            "Epoch 92/100\n",
            "338/338 - 1s - loss: 0.3481 - accuracy: 0.8422 - val_loss: 0.4157 - val_accuracy: 0.8140 - 603ms/epoch - 2ms/step\n",
            "Epoch 93/100\n",
            "338/338 - 1s - loss: 0.3504 - accuracy: 0.8426 - val_loss: 0.4239 - val_accuracy: 0.8023 - 634ms/epoch - 2ms/step\n",
            "Epoch 94/100\n",
            "338/338 - 1s - loss: 0.3493 - accuracy: 0.8401 - val_loss: 0.4101 - val_accuracy: 0.8123 - 629ms/epoch - 2ms/step\n",
            "Epoch 95/100\n",
            "338/338 - 1s - loss: 0.3489 - accuracy: 0.8451 - val_loss: 0.4098 - val_accuracy: 0.8190 - 643ms/epoch - 2ms/step\n",
            "Epoch 96/100\n",
            "338/338 - 1s - loss: 0.3451 - accuracy: 0.8466 - val_loss: 0.4012 - val_accuracy: 0.8198 - 626ms/epoch - 2ms/step\n",
            "Epoch 97/100\n",
            "338/338 - 1s - loss: 0.3451 - accuracy: 0.8453 - val_loss: 0.4043 - val_accuracy: 0.8090 - 618ms/epoch - 2ms/step\n",
            "Epoch 98/100\n",
            "338/338 - 1s - loss: 0.3432 - accuracy: 0.8448 - val_loss: 0.4017 - val_accuracy: 0.8107 - 621ms/epoch - 2ms/step\n",
            "Epoch 99/100\n",
            "338/338 - 1s - loss: 0.3444 - accuracy: 0.8464 - val_loss: 0.4080 - val_accuracy: 0.8065 - 626ms/epoch - 2ms/step\n",
            "Epoch 100/100\n",
            "338/338 - 1s - loss: 0.3446 - accuracy: 0.8430 - val_loss: 0.3953 - val_accuracy: 0.8140 - 621ms/epoch - 2ms/step\n"
          ]
        }
      ],
      "source": [
        "hist = model.fit(X_train_new, y_train_new, epochs = 100, validation_split = 0.1, verbose = 2)"
      ]
    },
    {
      "cell_type": "code",
      "source": [
        "# y_test_new = np.array([int(x) for x in y_test.values.ravel()])\n",
        "# y_test_new"
      ],
      "metadata": {
        "id": "dP1QEO45YSwv"
      },
      "execution_count": 44,
      "outputs": []
    },
    {
      "cell_type": "code",
      "execution_count": 45,
      "metadata": {
        "colab": {
          "base_uri": "https://localhost:8080/"
        },
        "id": "zpdk9x9xngJG",
        "outputId": "84b4ee58-26ec-449c-f526-054dab65dd89"
      },
      "outputs": [
        {
          "output_type": "stream",
          "name": "stdout",
          "text": [
            "94/94 - 0s - loss: 0.4015 - accuracy: 0.8007 - 136ms/epoch - 1ms/step\n",
            "Accuracy:  0.8007343411445618\n"
          ]
        }
      ],
      "source": [
        "score = model.evaluate(X_test_new, y_test_new, verbose=2)\n",
        "print(\"Accuracy: \", score[1])"
      ]
    },
    {
      "cell_type": "code",
      "execution_count": 46,
      "metadata": {
        "id": "zL_el0fmwOPF",
        "colab": {
          "base_uri": "https://localhost:8080/"
        },
        "outputId": "e1be1f82-3828-4344-a08c-7dff99a6a228"
      },
      "outputs": [
        {
          "output_type": "stream",
          "name": "stdout",
          "text": [
            "94/94 [==============================] - 0s 1ms/step\n"
          ]
        }
      ],
      "source": [
        "predict2 = [1 if a>0.5 else 0 for a in model.predict(X_test_new)]"
      ]
    },
    {
      "cell_type": "markdown",
      "metadata": {
        "id": "OINWUOwYV5A0"
      },
      "source": [
        "### Performance"
      ]
    },
    {
      "cell_type": "code",
      "execution_count": 47,
      "metadata": {
        "colab": {
          "base_uri": "https://localhost:8080/"
        },
        "id": "ScN-ERsEwXjw",
        "outputId": "a17954bb-c6e1-4451-966b-be60609a35a2"
      },
      "outputs": [
        {
          "output_type": "stream",
          "name": "stdout",
          "text": [
            "Accuracy = 0.8007343124165555\n",
            "Precision = 0.8134155744024673\n",
            "Recall = 0.74822695035461\n",
            "F1 Score = 0.7794606575544883\n"
          ]
        }
      ],
      "source": [
        "print(\"Accuracy = {}\\nPrecision = {}\\nRecall = {}\\nF1 Score = {}\".format(metrics.accuracy_score(y_test_new, predict2), metrics.precision_score(y_test_new, predict2),metrics.recall_score(y_test_new, predict2),metrics.f1_score(y_test_new, predict2)))\n",
        "model_scores.append([metrics.accuracy_score(y_test_new, predict2), metrics.precision_score(y_test_new, predict2),metrics.recall_score(y_test_new, predict2),metrics.f1_score(y_test_new, predict2)])"
      ]
    },
    {
      "cell_type": "code",
      "source": [
        "len(model_scores)"
      ],
      "metadata": {
        "colab": {
          "base_uri": "https://localhost:8080/"
        },
        "id": "gVi_pUGghmXX",
        "outputId": "34b3f431-16f1-4f0b-b9ff-cd69ea1ab7ff"
      },
      "execution_count": 48,
      "outputs": [
        {
          "output_type": "execute_result",
          "data": {
            "text/plain": [
              "3"
            ]
          },
          "metadata": {},
          "execution_count": 48
        }
      ]
    },
    {
      "cell_type": "markdown",
      "metadata": {
        "id": "L9mkRjYIa1iz"
      },
      "source": [
        "# Improved Neural Network (Tuning Parameters)"
      ]
    },
    {
      "cell_type": "code",
      "execution_count": 49,
      "metadata": {
        "colab": {
          "base_uri": "https://localhost:8080/"
        },
        "id": "tzNim7esa0g7",
        "outputId": "26497661-eecf-427b-f4c0-95373e9aa09e"
      },
      "outputs": [
        {
          "output_type": "stream",
          "name": "stdout",
          "text": [
            "Model: \"sequential_1\"\n",
            "_________________________________________________________________\n",
            " Layer (type)                Output Shape              Param #   \n",
            "=================================================================\n",
            " dense_2 (Dense)             (None, 1000)              10000     \n",
            "                                                                 \n",
            " dropout (Dropout)           (None, 1000)              0         \n",
            "                                                                 \n",
            " dense_3 (Dense)             (None, 1000)              1001000   \n",
            "                                                                 \n",
            " dropout_1 (Dropout)         (None, 1000)              0         \n",
            "                                                                 \n",
            " dense_4 (Dense)             (None, 1000)              1001000   \n",
            "                                                                 \n",
            " dropout_2 (Dropout)         (None, 1000)              0         \n",
            "                                                                 \n",
            " dense_5 (Dense)             (None, 1)                 1001      \n",
            "                                                                 \n",
            "=================================================================\n",
            "Total params: 2013001 (7.68 MB)\n",
            "Trainable params: 2013001 (7.68 MB)\n",
            "Non-trainable params: 0 (0.00 Byte)\n",
            "_________________________________________________________________\n"
          ]
        }
      ],
      "source": [
        "model2 = Sequential()\n",
        "model2.add(Dense(1000, activation = 'relu', input_shape = (X_train_new.shape[1], )))\n",
        "model2.add(Dropout(0.2))\n",
        "model2.add(Dense(1000, activation = 'relu'))\n",
        "model2.add(Dropout(0.2))\n",
        "model2.add(Dense(1000, activation = 'relu'))\n",
        "model2.add(Dropout(0.2))\n",
        "model2.add(Dense(1, activation = 'sigmoid'))\n",
        "model2.summary()"
      ]
    },
    {
      "cell_type": "code",
      "execution_count": 50,
      "metadata": {
        "colab": {
          "base_uri": "https://localhost:8080/"
        },
        "id": "3DCvBvfKbzpn",
        "outputId": "1d203875-658c-4821-9dd9-cbc8f6813963"
      },
      "outputs": [
        {
          "output_type": "stream",
          "name": "stdout",
          "text": [
            "Model: \"sequential_1\"\n",
            "_________________________________________________________________\n",
            " Layer (type)                Output Shape              Param #   \n",
            "=================================================================\n",
            " dense_2 (Dense)             (None, 1000)              10000     \n",
            "                                                                 \n",
            " dropout (Dropout)           (None, 1000)              0         \n",
            "                                                                 \n",
            " dense_3 (Dense)             (None, 1000)              1001000   \n",
            "                                                                 \n",
            " dropout_1 (Dropout)         (None, 1000)              0         \n",
            "                                                                 \n",
            " dense_4 (Dense)             (None, 1000)              1001000   \n",
            "                                                                 \n",
            " dropout_2 (Dropout)         (None, 1000)              0         \n",
            "                                                                 \n",
            " dense_5 (Dense)             (None, 1)                 1001      \n",
            "                                                                 \n",
            "=================================================================\n",
            "Total params: 2013001 (7.68 MB)\n",
            "Trainable params: 2013001 (7.68 MB)\n",
            "Non-trainable params: 0 (0.00 Byte)\n",
            "_________________________________________________________________\n"
          ]
        }
      ],
      "source": [
        "model2.compile(loss = 'binary_crossentropy', optimizer='adam', metrics=['accuracy'])\n",
        "model2.summary()"
      ]
    },
    {
      "cell_type": "code",
      "execution_count": 51,
      "metadata": {
        "colab": {
          "base_uri": "https://localhost:8080/"
        },
        "id": "qepgTEuYb206",
        "outputId": "33049b41-d1f0-465d-d8c6-f91844f23d19"
      },
      "outputs": [
        {
          "output_type": "stream",
          "name": "stdout",
          "text": [
            "Epoch 1/100\n",
            "338/338 - 13s - loss: 0.6681 - accuracy: 0.6366 - val_loss: 0.5631 - val_accuracy: 0.6939 - 13s/epoch - 38ms/step\n",
            "Epoch 2/100\n",
            "338/338 - 11s - loss: 0.5262 - accuracy: 0.7320 - val_loss: 0.4870 - val_accuracy: 0.7523 - 11s/epoch - 34ms/step\n",
            "Epoch 3/100\n",
            "338/338 - 12s - loss: 0.4990 - accuracy: 0.7663 - val_loss: 0.4624 - val_accuracy: 0.7815 - 12s/epoch - 35ms/step\n",
            "Epoch 4/100\n",
            "338/338 - 12s - loss: 0.4462 - accuracy: 0.7812 - val_loss: 0.4338 - val_accuracy: 0.7915 - 12s/epoch - 35ms/step\n",
            "Epoch 5/100\n",
            "338/338 - 11s - loss: 0.4277 - accuracy: 0.7933 - val_loss: 0.4158 - val_accuracy: 0.7973 - 11s/epoch - 32ms/step\n",
            "Epoch 6/100\n",
            "338/338 - 11s - loss: 0.4055 - accuracy: 0.8029 - val_loss: 0.4087 - val_accuracy: 0.8090 - 11s/epoch - 33ms/step\n",
            "Epoch 7/100\n",
            "338/338 - 12s - loss: 0.4168 - accuracy: 0.8097 - val_loss: 0.4136 - val_accuracy: 0.7915 - 12s/epoch - 35ms/step\n",
            "Epoch 8/100\n",
            "338/338 - 12s - loss: 0.3830 - accuracy: 0.8185 - val_loss: 0.4176 - val_accuracy: 0.8107 - 12s/epoch - 34ms/step\n",
            "Epoch 9/100\n",
            "338/338 - 11s - loss: 0.3653 - accuracy: 0.8257 - val_loss: 0.4253 - val_accuracy: 0.8040 - 11s/epoch - 32ms/step\n",
            "Epoch 10/100\n",
            "338/338 - 11s - loss: 0.4188 - accuracy: 0.8287 - val_loss: 0.4287 - val_accuracy: 0.8015 - 11s/epoch - 31ms/step\n",
            "Epoch 11/100\n",
            "338/338 - 11s - loss: 0.3513 - accuracy: 0.8367 - val_loss: 0.3801 - val_accuracy: 0.8257 - 11s/epoch - 34ms/step\n",
            "Epoch 12/100\n",
            "338/338 - 12s - loss: 0.3448 - accuracy: 0.8354 - val_loss: 0.3680 - val_accuracy: 0.8349 - 12s/epoch - 35ms/step\n",
            "Epoch 13/100\n",
            "338/338 - 12s - loss: 0.3350 - accuracy: 0.8427 - val_loss: 0.3733 - val_accuracy: 0.8315 - 12s/epoch - 35ms/step\n",
            "Epoch 14/100\n",
            "338/338 - 11s - loss: 0.3226 - accuracy: 0.8516 - val_loss: 0.3786 - val_accuracy: 0.8265 - 11s/epoch - 31ms/step\n",
            "Epoch 15/100\n",
            "338/338 - 11s - loss: 0.3231 - accuracy: 0.8511 - val_loss: 0.3595 - val_accuracy: 0.8265 - 11s/epoch - 33ms/step\n",
            "Epoch 16/100\n",
            "338/338 - 12s - loss: 0.3105 - accuracy: 0.8574 - val_loss: 0.3711 - val_accuracy: 0.8324 - 12s/epoch - 34ms/step\n",
            "Epoch 17/100\n",
            "338/338 - 12s - loss: 0.3132 - accuracy: 0.8574 - val_loss: 0.3690 - val_accuracy: 0.8399 - 12s/epoch - 35ms/step\n",
            "Epoch 18/100\n",
            "338/338 - 11s - loss: 0.2982 - accuracy: 0.8659 - val_loss: 0.3466 - val_accuracy: 0.8432 - 11s/epoch - 33ms/step\n",
            "Epoch 19/100\n",
            "338/338 - 10s - loss: 0.2957 - accuracy: 0.8646 - val_loss: 0.3859 - val_accuracy: 0.8249 - 10s/epoch - 30ms/step\n",
            "Epoch 20/100\n",
            "338/338 - 12s - loss: 0.2872 - accuracy: 0.8664 - val_loss: 0.3841 - val_accuracy: 0.8399 - 12s/epoch - 35ms/step\n",
            "Epoch 21/100\n",
            "338/338 - 12s - loss: 0.2852 - accuracy: 0.8695 - val_loss: 0.3666 - val_accuracy: 0.8365 - 12s/epoch - 35ms/step\n",
            "Epoch 22/100\n",
            "338/338 - 11s - loss: 0.2833 - accuracy: 0.8713 - val_loss: 0.3647 - val_accuracy: 0.8499 - 11s/epoch - 34ms/step\n",
            "Epoch 23/100\n",
            "338/338 - 11s - loss: 0.2850 - accuracy: 0.8690 - val_loss: 0.3531 - val_accuracy: 0.8449 - 11s/epoch - 33ms/step\n",
            "Epoch 24/100\n",
            "338/338 - 11s - loss: 0.2725 - accuracy: 0.8750 - val_loss: 0.3647 - val_accuracy: 0.8449 - 11s/epoch - 32ms/step\n",
            "Epoch 25/100\n",
            "338/338 - 12s - loss: 0.2701 - accuracy: 0.8771 - val_loss: 0.3633 - val_accuracy: 0.8432 - 12s/epoch - 36ms/step\n",
            "Epoch 26/100\n",
            "338/338 - 12s - loss: 0.2651 - accuracy: 0.8789 - val_loss: 0.3566 - val_accuracy: 0.8465 - 12s/epoch - 35ms/step\n",
            "Epoch 27/100\n",
            "338/338 - 12s - loss: 0.2620 - accuracy: 0.8835 - val_loss: 0.3565 - val_accuracy: 0.8440 - 12s/epoch - 35ms/step\n",
            "Epoch 28/100\n",
            "338/338 - 11s - loss: 0.2546 - accuracy: 0.8842 - val_loss: 0.3512 - val_accuracy: 0.8465 - 11s/epoch - 33ms/step\n",
            "Epoch 29/100\n",
            "338/338 - 11s - loss: 0.2478 - accuracy: 0.8882 - val_loss: 0.3573 - val_accuracy: 0.8457 - 11s/epoch - 33ms/step\n",
            "Epoch 30/100\n",
            "338/338 - 12s - loss: 0.2434 - accuracy: 0.8917 - val_loss: 0.3794 - val_accuracy: 0.8424 - 12s/epoch - 36ms/step\n",
            "Epoch 31/100\n",
            "338/338 - 12s - loss: 0.2442 - accuracy: 0.8892 - val_loss: 0.3787 - val_accuracy: 0.8465 - 12s/epoch - 35ms/step\n",
            "Epoch 32/100\n",
            "338/338 - 13s - loss: 0.2408 - accuracy: 0.8911 - val_loss: 0.3695 - val_accuracy: 0.8390 - 13s/epoch - 37ms/step\n",
            "Epoch 33/100\n",
            "338/338 - 12s - loss: 0.2348 - accuracy: 0.8957 - val_loss: 0.3626 - val_accuracy: 0.8407 - 12s/epoch - 34ms/step\n",
            "Epoch 34/100\n",
            "338/338 - 11s - loss: 0.2378 - accuracy: 0.8943 - val_loss: 0.3401 - val_accuracy: 0.8540 - 11s/epoch - 34ms/step\n",
            "Epoch 35/100\n",
            "338/338 - 12s - loss: 0.2299 - accuracy: 0.8986 - val_loss: 0.3564 - val_accuracy: 0.8515 - 12s/epoch - 34ms/step\n",
            "Epoch 36/100\n",
            "338/338 - 11s - loss: 0.2319 - accuracy: 0.8972 - val_loss: 0.3671 - val_accuracy: 0.8557 - 11s/epoch - 34ms/step\n",
            "Epoch 37/100\n",
            "338/338 - 12s - loss: 0.2225 - accuracy: 0.8992 - val_loss: 0.3601 - val_accuracy: 0.8507 - 12s/epoch - 34ms/step\n",
            "Epoch 38/100\n",
            "338/338 - 10s - loss: 0.2176 - accuracy: 0.9028 - val_loss: 0.3907 - val_accuracy: 0.8490 - 10s/epoch - 30ms/step\n",
            "Epoch 39/100\n",
            "338/338 - 12s - loss: 0.2214 - accuracy: 0.9001 - val_loss: 0.3611 - val_accuracy: 0.8557 - 12s/epoch - 35ms/step\n",
            "Epoch 40/100\n",
            "338/338 - 11s - loss: 0.2115 - accuracy: 0.9062 - val_loss: 0.3538 - val_accuracy: 0.8590 - 11s/epoch - 33ms/step\n",
            "Epoch 41/100\n",
            "338/338 - 12s - loss: 0.2140 - accuracy: 0.9063 - val_loss: 0.3774 - val_accuracy: 0.8599 - 12s/epoch - 34ms/step\n",
            "Epoch 42/100\n",
            "338/338 - 11s - loss: 0.2183 - accuracy: 0.9018 - val_loss: 0.3451 - val_accuracy: 0.8557 - 11s/epoch - 31ms/step\n",
            "Epoch 43/100\n",
            "338/338 - 11s - loss: 0.2038 - accuracy: 0.9064 - val_loss: 0.3804 - val_accuracy: 0.8507 - 11s/epoch - 34ms/step\n",
            "Epoch 44/100\n",
            "338/338 - 12s - loss: 0.1984 - accuracy: 0.9125 - val_loss: 0.3658 - val_accuracy: 0.8540 - 12s/epoch - 34ms/step\n",
            "Epoch 45/100\n",
            "338/338 - 11s - loss: 0.1961 - accuracy: 0.9127 - val_loss: 0.3907 - val_accuracy: 0.8524 - 11s/epoch - 34ms/step\n",
            "Epoch 46/100\n",
            "338/338 - 11s - loss: 0.2142 - accuracy: 0.9095 - val_loss: 0.4129 - val_accuracy: 0.8482 - 11s/epoch - 34ms/step\n",
            "Epoch 47/100\n",
            "338/338 - 10s - loss: 0.1943 - accuracy: 0.9167 - val_loss: 0.4140 - val_accuracy: 0.8549 - 10s/epoch - 30ms/step\n",
            "Epoch 48/100\n",
            "338/338 - 11s - loss: 0.1828 - accuracy: 0.9225 - val_loss: 0.3783 - val_accuracy: 0.8532 - 11s/epoch - 33ms/step\n",
            "Epoch 49/100\n",
            "338/338 - 12s - loss: 0.1892 - accuracy: 0.9191 - val_loss: 0.3781 - val_accuracy: 0.8549 - 12s/epoch - 35ms/step\n",
            "Epoch 50/100\n",
            "338/338 - 12s - loss: 0.1830 - accuracy: 0.9190 - val_loss: 0.3775 - val_accuracy: 0.8499 - 12s/epoch - 35ms/step\n",
            "Epoch 51/100\n",
            "338/338 - 11s - loss: 0.1704 - accuracy: 0.9255 - val_loss: 0.3894 - val_accuracy: 0.8582 - 11s/epoch - 34ms/step\n",
            "Epoch 52/100\n",
            "338/338 - 11s - loss: 0.1712 - accuracy: 0.9271 - val_loss: 0.4111 - val_accuracy: 0.8424 - 11s/epoch - 31ms/step\n",
            "Epoch 53/100\n",
            "338/338 - 11s - loss: 0.1751 - accuracy: 0.9243 - val_loss: 0.3842 - val_accuracy: 0.8624 - 11s/epoch - 34ms/step\n",
            "Epoch 54/100\n",
            "338/338 - 12s - loss: 0.1729 - accuracy: 0.9256 - val_loss: 0.4357 - val_accuracy: 0.8432 - 12s/epoch - 35ms/step\n",
            "Epoch 55/100\n",
            "338/338 - 12s - loss: 0.1722 - accuracy: 0.9248 - val_loss: 0.4039 - val_accuracy: 0.8532 - 12s/epoch - 35ms/step\n",
            "Epoch 56/100\n",
            "338/338 - 11s - loss: 0.1698 - accuracy: 0.9263 - val_loss: 0.4170 - val_accuracy: 0.8507 - 11s/epoch - 32ms/step\n",
            "Epoch 57/100\n",
            "338/338 - 11s - loss: 0.1621 - accuracy: 0.9308 - val_loss: 0.4103 - val_accuracy: 0.8415 - 11s/epoch - 34ms/step\n",
            "Epoch 58/100\n",
            "338/338 - 12s - loss: 0.1634 - accuracy: 0.9269 - val_loss: 0.4212 - val_accuracy: 0.8607 - 12s/epoch - 34ms/step\n",
            "Epoch 59/100\n",
            "338/338 - 12s - loss: 0.1654 - accuracy: 0.9288 - val_loss: 0.4282 - val_accuracy: 0.8515 - 12s/epoch - 34ms/step\n",
            "Epoch 60/100\n",
            "338/338 - 12s - loss: 0.1539 - accuracy: 0.9331 - val_loss: 0.3918 - val_accuracy: 0.8590 - 12s/epoch - 34ms/step\n",
            "Epoch 61/100\n",
            "338/338 - 11s - loss: 0.1602 - accuracy: 0.9334 - val_loss: 0.4589 - val_accuracy: 0.8532 - 11s/epoch - 32ms/step\n",
            "Epoch 62/100\n",
            "338/338 - 11s - loss: 0.1629 - accuracy: 0.9304 - val_loss: 0.4141 - val_accuracy: 0.8532 - 11s/epoch - 34ms/step\n",
            "Epoch 63/100\n",
            "338/338 - 12s - loss: 0.1485 - accuracy: 0.9370 - val_loss: 0.4702 - val_accuracy: 0.8374 - 12s/epoch - 35ms/step\n",
            "Epoch 64/100\n",
            "338/338 - 12s - loss: 0.1524 - accuracy: 0.9345 - val_loss: 0.4274 - val_accuracy: 0.8574 - 12s/epoch - 35ms/step\n",
            "Epoch 65/100\n",
            "338/338 - 12s - loss: 0.1473 - accuracy: 0.9346 - val_loss: 0.4475 - val_accuracy: 0.8499 - 12s/epoch - 36ms/step\n",
            "Epoch 66/100\n",
            "338/338 - 11s - loss: 0.1562 - accuracy: 0.9348 - val_loss: 0.4245 - val_accuracy: 0.8524 - 11s/epoch - 33ms/step\n",
            "Epoch 67/100\n",
            "338/338 - 11s - loss: 0.1458 - accuracy: 0.9382 - val_loss: 0.4167 - val_accuracy: 0.8607 - 11s/epoch - 34ms/step\n",
            "Epoch 68/100\n",
            "338/338 - 12s - loss: 0.1402 - accuracy: 0.9402 - val_loss: 0.4312 - val_accuracy: 0.8474 - 12s/epoch - 36ms/step\n",
            "Epoch 69/100\n",
            "338/338 - 12s - loss: 0.1397 - accuracy: 0.9398 - val_loss: 0.4475 - val_accuracy: 0.8457 - 12s/epoch - 35ms/step\n",
            "Epoch 70/100\n",
            "338/338 - 12s - loss: 0.1367 - accuracy: 0.9419 - val_loss: 0.4500 - val_accuracy: 0.8449 - 12s/epoch - 35ms/step\n",
            "Epoch 71/100\n",
            "338/338 - 11s - loss: 0.1462 - accuracy: 0.9408 - val_loss: 0.4723 - val_accuracy: 0.8440 - 11s/epoch - 33ms/step\n",
            "Epoch 72/100\n",
            "338/338 - 11s - loss: 0.1352 - accuracy: 0.9437 - val_loss: 0.4729 - val_accuracy: 0.8465 - 11s/epoch - 32ms/step\n",
            "Epoch 73/100\n",
            "338/338 - 12s - loss: 0.1414 - accuracy: 0.9409 - val_loss: 0.4524 - val_accuracy: 0.8540 - 12s/epoch - 35ms/step\n",
            "Epoch 74/100\n",
            "338/338 - 12s - loss: 0.1364 - accuracy: 0.9419 - val_loss: 0.4291 - val_accuracy: 0.8482 - 12s/epoch - 35ms/step\n",
            "Epoch 75/100\n",
            "338/338 - 12s - loss: 0.1357 - accuracy: 0.9428 - val_loss: 0.4780 - val_accuracy: 0.8382 - 12s/epoch - 35ms/step\n",
            "Epoch 76/100\n",
            "338/338 - 11s - loss: 0.1299 - accuracy: 0.9457 - val_loss: 0.5144 - val_accuracy: 0.8465 - 11s/epoch - 33ms/step\n",
            "Epoch 77/100\n",
            "338/338 - 11s - loss: 0.1365 - accuracy: 0.9432 - val_loss: 0.5278 - val_accuracy: 0.8407 - 11s/epoch - 34ms/step\n",
            "Epoch 78/100\n",
            "338/338 - 12s - loss: 0.1336 - accuracy: 0.9466 - val_loss: 0.5152 - val_accuracy: 0.8457 - 12s/epoch - 35ms/step\n",
            "Epoch 79/100\n",
            "338/338 - 12s - loss: 0.1301 - accuracy: 0.9454 - val_loss: 0.4642 - val_accuracy: 0.8515 - 12s/epoch - 36ms/step\n",
            "Epoch 80/100\n",
            "338/338 - 12s - loss: 0.1262 - accuracy: 0.9479 - val_loss: 0.4624 - val_accuracy: 0.8440 - 12s/epoch - 35ms/step\n",
            "Epoch 81/100\n",
            "338/338 - 14s - loss: 0.1329 - accuracy: 0.9457 - val_loss: 0.4547 - val_accuracy: 0.8557 - 14s/epoch - 41ms/step\n",
            "Epoch 82/100\n",
            "338/338 - 11s - loss: 0.1238 - accuracy: 0.9471 - val_loss: 0.4752 - val_accuracy: 0.8424 - 11s/epoch - 32ms/step\n",
            "Epoch 83/100\n",
            "338/338 - 12s - loss: 0.1214 - accuracy: 0.9493 - val_loss: 0.4811 - val_accuracy: 0.8474 - 12s/epoch - 34ms/step\n",
            "Epoch 84/100\n",
            "338/338 - 12s - loss: 0.1158 - accuracy: 0.9529 - val_loss: 0.4683 - val_accuracy: 0.8524 - 12s/epoch - 36ms/step\n",
            "Epoch 85/100\n",
            "338/338 - 12s - loss: 0.1192 - accuracy: 0.9496 - val_loss: 0.4687 - val_accuracy: 0.8532 - 12s/epoch - 36ms/step\n",
            "Epoch 86/100\n",
            "338/338 - 12s - loss: 0.1212 - accuracy: 0.9499 - val_loss: 0.4867 - val_accuracy: 0.8482 - 12s/epoch - 36ms/step\n",
            "Epoch 87/100\n",
            "338/338 - 12s - loss: 0.1171 - accuracy: 0.9533 - val_loss: 0.4851 - val_accuracy: 0.8474 - 12s/epoch - 35ms/step\n",
            "Epoch 88/100\n",
            "338/338 - 11s - loss: 0.1136 - accuracy: 0.9553 - val_loss: 0.4876 - val_accuracy: 0.8582 - 11s/epoch - 33ms/step\n",
            "Epoch 89/100\n",
            "338/338 - 12s - loss: 0.1151 - accuracy: 0.9527 - val_loss: 0.5167 - val_accuracy: 0.8474 - 12s/epoch - 35ms/step\n",
            "Epoch 90/100\n",
            "338/338 - 12s - loss: 0.1105 - accuracy: 0.9556 - val_loss: 0.5112 - val_accuracy: 0.8507 - 12s/epoch - 35ms/step\n",
            "Epoch 91/100\n",
            "338/338 - 12s - loss: 0.1144 - accuracy: 0.9540 - val_loss: 0.5027 - val_accuracy: 0.8474 - 12s/epoch - 35ms/step\n",
            "Epoch 92/100\n",
            "338/338 - 12s - loss: 0.1103 - accuracy: 0.9561 - val_loss: 0.4978 - val_accuracy: 0.8515 - 12s/epoch - 35ms/step\n",
            "Epoch 93/100\n",
            "338/338 - 11s - loss: 0.1079 - accuracy: 0.9528 - val_loss: 0.4834 - val_accuracy: 0.8557 - 11s/epoch - 32ms/step\n",
            "Epoch 94/100\n",
            "338/338 - 12s - loss: 0.1123 - accuracy: 0.9530 - val_loss: 0.5027 - val_accuracy: 0.8482 - 12s/epoch - 35ms/step\n",
            "Epoch 95/100\n",
            "338/338 - 12s - loss: 0.1069 - accuracy: 0.9568 - val_loss: 0.5458 - val_accuracy: 0.8507 - 12s/epoch - 35ms/step\n",
            "Epoch 96/100\n",
            "338/338 - 12s - loss: 0.1120 - accuracy: 0.9531 - val_loss: 0.4825 - val_accuracy: 0.8490 - 12s/epoch - 36ms/step\n",
            "Epoch 97/100\n",
            "338/338 - 12s - loss: 0.1121 - accuracy: 0.9561 - val_loss: 0.5704 - val_accuracy: 0.8349 - 12s/epoch - 35ms/step\n",
            "Epoch 98/100\n",
            "338/338 - 12s - loss: 0.1074 - accuracy: 0.9565 - val_loss: 0.5726 - val_accuracy: 0.8390 - 12s/epoch - 34ms/step\n",
            "Epoch 99/100\n",
            "338/338 - 12s - loss: 0.1066 - accuracy: 0.9595 - val_loss: 0.5611 - val_accuracy: 0.8382 - 12s/epoch - 34ms/step\n",
            "Epoch 100/100\n",
            "338/338 - 12s - loss: 0.1013 - accuracy: 0.9610 - val_loss: 0.5806 - val_accuracy: 0.8432 - 12s/epoch - 36ms/step\n"
          ]
        }
      ],
      "source": [
        "hist1 = model2.fit(X_train_new, y_train_new, epochs = 100, validation_split = 0.1, verbose = 2)"
      ]
    },
    {
      "cell_type": "code",
      "execution_count": 52,
      "metadata": {
        "colab": {
          "base_uri": "https://localhost:8080/"
        },
        "id": "aNKmoGdQchbo",
        "outputId": "2213f0d3-9a06-48d6-8e47-758f1b1e3059"
      },
      "outputs": [
        {
          "output_type": "stream",
          "name": "stdout",
          "text": [
            "94/94 - 1s - loss: 0.5329 - accuracy: 0.8501 - 603ms/epoch - 6ms/step\n",
            "Accuracy:  0.8501335382461548\n"
          ]
        }
      ],
      "source": [
        "score = model2.evaluate(X_test_new, y_test_new, verbose=2)\n",
        "print(\"Accuracy: \", score[1])"
      ]
    },
    {
      "cell_type": "code",
      "execution_count": 53,
      "metadata": {
        "id": "elVEGDtW3JfM",
        "colab": {
          "base_uri": "https://localhost:8080/"
        },
        "outputId": "d076afb7-817e-484e-a197-029fa5068b26"
      },
      "outputs": [
        {
          "output_type": "stream",
          "name": "stdout",
          "text": [
            "94/94 [==============================] - 1s 6ms/step\n"
          ]
        }
      ],
      "source": [
        "predict3 = [1 if a>=0.5 else 0 for a in model2.predict(X_test_new)]"
      ]
    },
    {
      "cell_type": "code",
      "execution_count": 54,
      "metadata": {
        "colab": {
          "base_uri": "https://localhost:8080/"
        },
        "id": "bww5JR0i3PGh",
        "outputId": "7d6e3a1e-daf2-429f-c138-2830ba109275"
      },
      "outputs": [
        {
          "output_type": "stream",
          "name": "stdout",
          "text": [
            "Accuracy = 0.8501335113484646\n",
            "Precision = 0.8637395912187736\n",
            "Recall = 0.8092198581560284\n",
            "F1 Score = 0.8355913584767485\n"
          ]
        }
      ],
      "source": [
        "print(\"Accuracy = {}\\nPrecision = {}\\nRecall = {}\\nF1 Score = {}\".format(metrics.accuracy_score(y_test_new, predict3), metrics.precision_score(y_test_new, predict3),metrics.recall_score(y_test_new, predict3),metrics.f1_score(y_test_new, predict3)))\n",
        "model_scores.append([metrics.accuracy_score(y_test_new, predict3), metrics.precision_score(y_test_new, predict3),metrics.recall_score(y_test_new, predict3),metrics.f1_score(y_test_new, predict3)])"
      ]
    },
    {
      "cell_type": "code",
      "source": [
        "len(model_scores)"
      ],
      "metadata": {
        "colab": {
          "base_uri": "https://localhost:8080/"
        },
        "id": "9HoUcqO9hCZP",
        "outputId": "dae59e2d-5f40-4b23-b321-cc93028d0009"
      },
      "execution_count": 55,
      "outputs": [
        {
          "output_type": "execute_result",
          "data": {
            "text/plain": [
              "4"
            ]
          },
          "metadata": {},
          "execution_count": 55
        }
      ]
    },
    {
      "cell_type": "markdown",
      "metadata": {
        "id": "abJ6a5A5WQsw"
      },
      "source": [
        "# Conclusion"
      ]
    },
    {
      "cell_type": "markdown",
      "metadata": {
        "id": "_ynCq160WxHd"
      },
      "source": [
        "## Ploting the results"
      ]
    },
    {
      "cell_type": "code",
      "execution_count": 56,
      "metadata": {
        "colab": {
          "base_uri": "https://localhost:8080/",
          "height": 535
        },
        "id": "fqXg8759Wy4c",
        "outputId": "445622f9-d433-4793-d56d-5d72c7c2bf41"
      },
      "outputs": [
        {
          "output_type": "display_data",
          "data": {
            "text/plain": [
              "<Figure size 640x480 with 1 Axes>"
            ],
            "image/png": "[encoded data removed]"
          },
          "metadata": {}
        }
      ],
      "source": [
        "import matplotlib.pyplot as plt\n",
        "import matplotlib.pyplot as plt; plt.rcdefaults()\n",
        "import numpy as np\n",
        "import matplotlib.pyplot as plt\n",
        "import matplotlib.patches as mpatches\n",
        "\n",
        "objects = ['Accuracy score', 'Precision score', 'Recall score', 'F1 score']\n",
        "w =  0.15\n",
        "y_pos = np.arange(len(objects))\n",
        "\n",
        "color = ['#A00000','#00A0A0','#00A000', '#FFFF00']\n",
        "s = 0\n",
        "for i in range(len(model_scores)):\n",
        "    plt.bar(y_pos+s, model_scores[i], color = color[i], width = w )\n",
        "    s += w\n",
        "\n",
        "plt.xticks(y_pos + 0.22, objects)\n",
        "plt.ylabel('Scores')\n",
        "plt.title('Performance')\n",
        "plt.suptitle(\"Performance Metrics for Models\", fontsize = 16, y = 1.10)\n",
        "\n",
        "p = ['SVM',  'Logistic Regression', 'Neural Network(MLP)', 'MLP with Dropouts']\n",
        "\n",
        "patches = []\n",
        "\n",
        "for k in range(len(p)):\n",
        "    patches.append(mpatches.Patch(color = color[k], label = p[k]))\n",
        "\n",
        "plt.legend(handles = patches, bbox_to_anchor = (0.5, 1.19),loc = 'upper center', borderaxespad = 0., ncol = 4, fontsize = 'x-large')\n",
        "\n",
        "plt.show();"
      ]
    }
  ],
  "metadata": {
    "colab": {
      "provenance": []
    },
    "kernelspec": {
      "display_name": "Python 3",
      "language": "python",
      "name": "python3"
    },
    "language_info": {
      "codemirror_mode": {
        "name": "ipython",
        "version": 3
      },
      "file_extension": ".py",
      "mimetype": "text/x-python",
      "name": "python",
      "nbconvert_exporter": "python",
      "pygments_lexer": "ipython3",
      "version": "3.6.4"
    }
  },
  "nbformat": 4,
  "nbformat_minor": 0
}